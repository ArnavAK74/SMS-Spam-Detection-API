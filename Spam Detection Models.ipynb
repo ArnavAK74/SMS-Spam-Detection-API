{
 "cells": [
  {
   "cell_type": "code",
   "execution_count": 1,
   "id": "44da5b90",
   "metadata": {
    "_cell_guid": "b1076dfc-b9ad-4769-8c92-a6c4dae69d19",
    "_uuid": "8f2839f25d086af736a60e9eeb907d3b93b6e0e5",
    "execution": {
     "iopub.execute_input": "2024-12-01T23:18:08.649915Z",
     "iopub.status.busy": "2024-12-01T23:18:08.649572Z",
     "iopub.status.idle": "2024-12-01T23:18:09.324393Z",
     "shell.execute_reply": "2024-12-01T23:18:09.323399Z"
    },
    "papermill": {
     "duration": 0.683706,
     "end_time": "2024-12-01T23:18:09.326089",
     "exception": false,
     "start_time": "2024-12-01T23:18:08.642383",
     "status": "completed"
    },
    "tags": []
   },
   "outputs": [
    {
     "name": "stdout",
     "output_type": "stream",
     "text": [
      "/kaggle/input/sms-spam-collection-dataset/spam.csv\n"
     ]
    }
   ],
   "source": [
    "# This Python 3 environment comes with many helpful analytics libraries installed\n",
    "# It is defined by the kaggle/python Docker image: https://github.com/kaggle/docker-python\n",
    "# For example, here's several helpful packages to load\n",
    "\n",
    "import numpy as np # linear algebra\n",
    "import pandas as pd # data processing, CSV file I/O (e.g. pd.read_csv)\n",
    "\n",
    "# Input data files are available in the read-only \"../input/\" directory\n",
    "# For example, running this (by clicking run or pressing Shift+Enter) will list all files under the input directory\n",
    "\n",
    "import os\n",
    "for dirname, _, filenames in os.walk('/kaggle/input'):\n",
    "    for filename in filenames:\n",
    "        print(os.path.join(dirname, filename))\n",
    "\n",
    "# You can write up to 20GB to the current directory (/kaggle/working/) that gets preserved as output when you create a version using \"Save & Run All\" \n",
    "# You can also write temporary files to /kaggle/temp/, but they won't be saved outside of the current session"
   ]
  },
  {
   "cell_type": "code",
   "execution_count": 2,
   "id": "9adedb20",
   "metadata": {
    "execution": {
     "iopub.execute_input": "2024-12-01T23:18:09.338592Z",
     "iopub.status.busy": "2024-12-01T23:18:09.338263Z",
     "iopub.status.idle": "2024-12-01T23:18:11.239371Z",
     "shell.execute_reply": "2024-12-01T23:18:11.238612Z"
    },
    "papermill": {
     "duration": 1.909453,
     "end_time": "2024-12-01T23:18:11.241432",
     "exception": false,
     "start_time": "2024-12-01T23:18:09.331979",
     "status": "completed"
    },
    "tags": []
   },
   "outputs": [],
   "source": [
    "import matplotlib.pyplot as plt\n",
    "import seaborn as sns\n",
    "from sklearn.model_selection import train_test_split, GridSearchCV\n",
    "from sklearn.feature_extraction.text import TfidfVectorizer\n",
    "from sklearn.naive_bayes import MultinomialNB\n",
    "from sklearn.svm import SVC\n",
    "from sklearn.linear_model import LogisticRegression\n",
    "from sklearn.metrics import classification_report, confusion_matrix, accuracy_score\n",
    "import nltk\n",
    "from nltk.corpus import stopwords\n",
    "from nltk.stem import WordNetLemmatizer\n",
    "import re"
   ]
  },
  {
   "cell_type": "code",
   "execution_count": 3,
   "id": "6474fe60",
   "metadata": {
    "execution": {
     "iopub.execute_input": "2024-12-01T23:18:11.254228Z",
     "iopub.status.busy": "2024-12-01T23:18:11.253854Z",
     "iopub.status.idle": "2024-12-01T23:18:11.325433Z",
     "shell.execute_reply": "2024-12-01T23:18:11.324704Z"
    },
    "papermill": {
     "duration": 0.079819,
     "end_time": "2024-12-01T23:18:11.327190",
     "exception": false,
     "start_time": "2024-12-01T23:18:11.247371",
     "status": "completed"
    },
    "tags": []
   },
   "outputs": [],
   "source": [
    "data = pd.read_csv('/kaggle/input/sms-spam-collection-dataset/spam.csv', encoding='latin-1')\n",
    "data = data[['v1', 'v2']]  \n",
    "data.columns = ['label', 'message']"
   ]
  },
  {
   "cell_type": "code",
   "execution_count": 4,
   "id": "df2f02c5",
   "metadata": {
    "execution": {
     "iopub.execute_input": "2024-12-01T23:18:11.339363Z",
     "iopub.status.busy": "2024-12-01T23:18:11.339110Z",
     "iopub.status.idle": "2024-12-01T23:18:11.353108Z",
     "shell.execute_reply": "2024-12-01T23:18:11.352091Z"
    },
    "papermill": {
     "duration": 0.021938,
     "end_time": "2024-12-01T23:18:11.354817",
     "exception": false,
     "start_time": "2024-12-01T23:18:11.332879",
     "status": "completed"
    },
    "tags": []
   },
   "outputs": [
    {
     "name": "stdout",
     "output_type": "stream",
     "text": [
      "  label                                            message\n",
      "0   ham  Go until jurong point, crazy.. Available only ...\n",
      "1   ham                      Ok lar... Joking wif u oni...\n",
      "2  spam  Free entry in 2 a wkly comp to win FA Cup fina...\n",
      "3   ham  U dun say so early hor... U c already then say...\n",
      "4   ham  Nah I don't think he goes to usf, he lives aro...\n",
      "label\n",
      "ham     4825\n",
      "spam     747\n",
      "Name: count, dtype: int64\n"
     ]
    }
   ],
   "source": [
    "print(data.head())\n",
    "print(data['label'].value_counts())"
   ]
  },
  {
   "cell_type": "code",
   "execution_count": 5,
   "id": "da597ea9",
   "metadata": {
    "execution": {
     "iopub.execute_input": "2024-12-01T23:18:11.367541Z",
     "iopub.status.busy": "2024-12-01T23:18:11.367288Z",
     "iopub.status.idle": "2024-12-01T23:18:11.381920Z",
     "shell.execute_reply": "2024-12-01T23:18:11.380919Z"
    },
    "papermill": {
     "duration": 0.022911,
     "end_time": "2024-12-01T23:18:11.383657",
     "exception": false,
     "start_time": "2024-12-01T23:18:11.360746",
     "status": "completed"
    },
    "tags": []
   },
   "outputs": [
    {
     "name": "stdout",
     "output_type": "stream",
     "text": [
      "<class 'pandas.core.frame.DataFrame'>\n",
      "RangeIndex: 5572 entries, 0 to 5571\n",
      "Data columns (total 2 columns):\n",
      " #   Column   Non-Null Count  Dtype \n",
      "---  ------   --------------  ----- \n",
      " 0   label    5572 non-null   object\n",
      " 1   message  5572 non-null   object\n",
      "dtypes: object(2)\n",
      "memory usage: 87.2+ KB\n"
     ]
    },
    {
     "data": {
      "text/plain": [
       "(5572, 2)"
      ]
     },
     "execution_count": 5,
     "metadata": {},
     "output_type": "execute_result"
    }
   ],
   "source": [
    "data.info()\n",
    "data.shape"
   ]
  },
  {
   "cell_type": "code",
   "execution_count": 6,
   "id": "7526e06b",
   "metadata": {
    "execution": {
     "iopub.execute_input": "2024-12-01T23:18:11.397530Z",
     "iopub.status.busy": "2024-12-01T23:18:11.397291Z",
     "iopub.status.idle": "2024-12-01T23:18:11.533234Z",
     "shell.execute_reply": "2024-12-01T23:18:11.532391Z"
    },
    "papermill": {
     "duration": 0.145046,
     "end_time": "2024-12-01T23:18:11.534957",
     "exception": false,
     "start_time": "2024-12-01T23:18:11.389911",
     "status": "completed"
    },
    "tags": []
   },
   "outputs": [
    {
     "name": "stdout",
     "output_type": "stream",
     "text": [
      "[nltk_data] Downloading package stopwords to /usr/share/nltk_data...\n",
      "[nltk_data]   Package stopwords is already up-to-date!\n",
      "[nltk_data] Downloading package wordnet to /usr/share/nltk_data...\n",
      "[nltk_data]   Package wordnet is already up-to-date!\n"
     ]
    },
    {
     "data": {
      "text/plain": [
       "True"
      ]
     },
     "execution_count": 6,
     "metadata": {},
     "output_type": "execute_result"
    }
   ],
   "source": [
    "nltk.download('stopwords')\n",
    "nltk.download('wordnet')"
   ]
  },
  {
   "cell_type": "code",
   "execution_count": 7,
   "id": "4ddc2d91",
   "metadata": {
    "execution": {
     "iopub.execute_input": "2024-12-01T23:18:11.547764Z",
     "iopub.status.busy": "2024-12-01T23:18:11.547461Z",
     "iopub.status.idle": "2024-12-01T23:18:11.763425Z",
     "shell.execute_reply": "2024-12-01T23:18:11.762823Z"
    },
    "papermill": {
     "duration": 0.224122,
     "end_time": "2024-12-01T23:18:11.765085",
     "exception": false,
     "start_time": "2024-12-01T23:18:11.540963",
     "status": "completed"
    },
    "tags": []
   },
   "outputs": [],
   "source": [
    "import zipfile\n",
    "import os\n",
    "\n",
    "resource_path = '/usr/share/nltk_data/corpora'\n",
    "wordnet_zip = '/usr/share/nltk_data/corpora/wordnet.zip'\n",
    "\n",
    "\n",
    "with zipfile.ZipFile(wordnet_zip, 'r') as zip_ref:\n",
    "    zip_ref.extractall(resource_path) "
   ]
  },
  {
   "cell_type": "code",
   "execution_count": 8,
   "id": "b59eea79",
   "metadata": {
    "execution": {
     "iopub.execute_input": "2024-12-01T23:18:11.777821Z",
     "iopub.status.busy": "2024-12-01T23:18:11.777557Z",
     "iopub.status.idle": "2024-12-01T23:18:11.783056Z",
     "shell.execute_reply": "2024-12-01T23:18:11.782468Z"
    },
    "papermill": {
     "duration": 0.013417,
     "end_time": "2024-12-01T23:18:11.784477",
     "exception": false,
     "start_time": "2024-12-01T23:18:11.771060",
     "status": "completed"
    },
    "tags": []
   },
   "outputs": [],
   "source": [
    "stop_words = set(stopwords.words('english'))\n",
    "lemmatizer = WordNetLemmatizer()"
   ]
  },
  {
   "cell_type": "code",
   "execution_count": 9,
   "id": "26894a58",
   "metadata": {
    "execution": {
     "iopub.execute_input": "2024-12-01T23:18:11.796982Z",
     "iopub.status.busy": "2024-12-01T23:18:11.796737Z",
     "iopub.status.idle": "2024-12-01T23:18:11.800791Z",
     "shell.execute_reply": "2024-12-01T23:18:11.800061Z"
    },
    "papermill": {
     "duration": 0.012062,
     "end_time": "2024-12-01T23:18:11.802332",
     "exception": false,
     "start_time": "2024-12-01T23:18:11.790270",
     "status": "completed"
    },
    "tags": []
   },
   "outputs": [],
   "source": [
    "def preprocess_text(text):\n",
    "    text = re.sub(r'\\W', ' ', text)\n",
    "    text = re.sub(r'\\d', ' ', text)\n",
    "    text = text.lower()\n",
    "    words = text.split()\n",
    "    words = [lemmatizer.lemmatize(word) for word in words if word not in stop_words]\n",
    "    return ' '.join(words)"
   ]
  },
  {
   "cell_type": "code",
   "execution_count": 10,
   "id": "41c7f12c",
   "metadata": {
    "execution": {
     "iopub.execute_input": "2024-12-01T23:18:11.814864Z",
     "iopub.status.busy": "2024-12-01T23:18:11.814631Z",
     "iopub.status.idle": "2024-12-01T23:18:13.208779Z",
     "shell.execute_reply": "2024-12-01T23:18:13.207836Z"
    },
    "papermill": {
     "duration": 1.402457,
     "end_time": "2024-12-01T23:18:13.210833",
     "exception": false,
     "start_time": "2024-12-01T23:18:11.808376",
     "status": "completed"
    },
    "tags": []
   },
   "outputs": [],
   "source": [
    "data['processed_message'] = data['message'].apply(preprocess_text)"
   ]
  },
  {
   "cell_type": "code",
   "execution_count": 11,
   "id": "d9d25b1c",
   "metadata": {
    "execution": {
     "iopub.execute_input": "2024-12-01T23:18:13.224861Z",
     "iopub.status.busy": "2024-12-01T23:18:13.224494Z",
     "iopub.status.idle": "2024-12-01T23:18:13.556792Z",
     "shell.execute_reply": "2024-12-01T23:18:13.555428Z"
    },
    "papermill": {
     "duration": 0.342142,
     "end_time": "2024-12-01T23:18:13.559508",
     "exception": false,
     "start_time": "2024-12-01T23:18:13.217366",
     "status": "completed"
    },
    "tags": []
   },
   "outputs": [],
   "source": [
    "tfidf = TfidfVectorizer(max_features=3000)\n",
    "X = tfidf.fit_transform(data['processed_message']).toarray()\n",
    "y = data['label'].apply(lambda x: 1 if x == 'spam' else 0)"
   ]
  },
  {
   "cell_type": "code",
   "execution_count": 12,
   "id": "3b9d4adf",
   "metadata": {
    "execution": {
     "iopub.execute_input": "2024-12-01T23:18:13.588800Z",
     "iopub.status.busy": "2024-12-01T23:18:13.588370Z",
     "iopub.status.idle": "2024-12-01T23:18:13.656530Z",
     "shell.execute_reply": "2024-12-01T23:18:13.655595Z"
    },
    "papermill": {
     "duration": 0.08567,
     "end_time": "2024-12-01T23:18:13.659803",
     "exception": false,
     "start_time": "2024-12-01T23:18:13.574133",
     "status": "completed"
    },
    "tags": []
   },
   "outputs": [],
   "source": [
    "X_train, X_test, y_train, y_test = train_test_split(X, y, test_size=0.3, random_state=42)"
   ]
  },
  {
   "cell_type": "code",
   "execution_count": 13,
   "id": "5a5ce5ea",
   "metadata": {
    "execution": {
     "iopub.execute_input": "2024-12-01T23:18:13.679137Z",
     "iopub.status.busy": "2024-12-01T23:18:13.678794Z",
     "iopub.status.idle": "2024-12-01T23:18:13.726064Z",
     "shell.execute_reply": "2024-12-01T23:18:13.724951Z"
    },
    "papermill": {
     "duration": 0.059587,
     "end_time": "2024-12-01T23:18:13.729568",
     "exception": false,
     "start_time": "2024-12-01T23:18:13.669981",
     "status": "completed"
    },
    "tags": []
   },
   "outputs": [],
   "source": [
    "nb_model = MultinomialNB()\n",
    "nb_model.fit(X_train, y_train)\n",
    "y_pred_nb = nb_model.predict(X_test)"
   ]
  },
  {
   "cell_type": "code",
   "execution_count": 14,
   "id": "588e17fb",
   "metadata": {
    "execution": {
     "iopub.execute_input": "2024-12-01T23:18:13.783505Z",
     "iopub.status.busy": "2024-12-01T23:18:13.781275Z",
     "iopub.status.idle": "2024-12-01T23:18:33.763481Z",
     "shell.execute_reply": "2024-12-01T23:18:33.762792Z"
    },
    "papermill": {
     "duration": 20.017659,
     "end_time": "2024-12-01T23:18:33.765709",
     "exception": false,
     "start_time": "2024-12-01T23:18:13.748050",
     "status": "completed"
    },
    "tags": []
   },
   "outputs": [],
   "source": [
    "svm_model = SVC()\n",
    "svm_model.fit(X_train, y_train)\n",
    "y_pred_svm = svm_model.predict(X_test)"
   ]
  },
  {
   "cell_type": "code",
   "execution_count": 15,
   "id": "3273d119",
   "metadata": {
    "execution": {
     "iopub.execute_input": "2024-12-01T23:18:33.778999Z",
     "iopub.status.busy": "2024-12-01T23:18:33.778716Z",
     "iopub.status.idle": "2024-12-01T23:18:34.142795Z",
     "shell.execute_reply": "2024-12-01T23:18:34.141460Z"
    },
    "papermill": {
     "duration": 0.374379,
     "end_time": "2024-12-01T23:18:34.146342",
     "exception": false,
     "start_time": "2024-12-01T23:18:33.771963",
     "status": "completed"
    },
    "tags": []
   },
   "outputs": [],
   "source": [
    "logreg_model = LogisticRegression(max_iter=1000)\n",
    "logreg_model.fit(X_train, y_train)\n",
    "y_pred_logreg = logreg_model.predict(X_test)"
   ]
  },
  {
   "cell_type": "code",
   "execution_count": 16,
   "id": "e436d7e4",
   "metadata": {
    "execution": {
     "iopub.execute_input": "2024-12-01T23:18:34.188515Z",
     "iopub.status.busy": "2024-12-01T23:18:34.187317Z",
     "iopub.status.idle": "2024-12-01T23:20:25.579781Z",
     "shell.execute_reply": "2024-12-01T23:20:25.577937Z"
    },
    "papermill": {
     "duration": 111.417589,
     "end_time": "2024-12-01T23:20:25.583759",
     "exception": false,
     "start_time": "2024-12-01T23:18:34.166170",
     "status": "completed"
    },
    "tags": []
   },
   "outputs": [
    {
     "name": "stdout",
     "output_type": "stream",
     "text": [
      "Fitting 5 folds for each of 8 candidates, totalling 40 fits\n",
      "[CV] END ............................C=0.1, solver=liblinear; total time=   0.1s\n",
      "[CV] END ............................C=0.1, solver=liblinear; total time=   0.1s\n",
      "[CV] END ............................C=0.1, solver=liblinear; total time=   0.1s\n",
      "[CV] END ............................C=0.1, solver=liblinear; total time=   0.1s\n",
      "[CV] END ............................C=0.1, solver=liblinear; total time=   0.1s\n",
      "[CV] END .................................C=0.1, solver=saga; total time=   1.9s\n",
      "[CV] END .................................C=0.1, solver=saga; total time=   2.0s\n",
      "[CV] END .................................C=0.1, solver=saga; total time=   2.1s\n",
      "[CV] END .................................C=0.1, solver=saga; total time=   1.9s\n",
      "[CV] END .................................C=0.1, solver=saga; total time=   2.1s\n",
      "[CV] END ..............................C=1, solver=liblinear; total time=   0.1s\n",
      "[CV] END ..............................C=1, solver=liblinear; total time=   0.1s\n",
      "[CV] END ..............................C=1, solver=liblinear; total time=   0.1s\n",
      "[CV] END ..............................C=1, solver=liblinear; total time=   0.1s\n",
      "[CV] END ..............................C=1, solver=liblinear; total time=   0.1s\n",
      "[CV] END ...................................C=1, solver=saga; total time=   2.2s\n",
      "[CV] END ...................................C=1, solver=saga; total time=   1.9s\n",
      "[CV] END ...................................C=1, solver=saga; total time=   2.1s\n",
      "[CV] END ...................................C=1, solver=saga; total time=   2.3s\n",
      "[CV] END ...................................C=1, solver=saga; total time=   1.9s\n",
      "[CV] END .............................C=10, solver=liblinear; total time=   0.1s\n",
      "[CV] END .............................C=10, solver=liblinear; total time=   0.1s\n",
      "[CV] END .............................C=10, solver=liblinear; total time=   0.1s\n",
      "[CV] END .............................C=10, solver=liblinear; total time=   0.1s\n",
      "[CV] END .............................C=10, solver=liblinear; total time=   0.1s\n",
      "[CV] END ..................................C=10, solver=saga; total time=   7.8s\n",
      "[CV] END ..................................C=10, solver=saga; total time=   6.6s\n",
      "[CV] END ..................................C=10, solver=saga; total time=   6.2s\n",
      "[CV] END ..................................C=10, solver=saga; total time=   6.6s\n",
      "[CV] END ..................................C=10, solver=saga; total time=   6.4s\n",
      "[CV] END ............................C=100, solver=liblinear; total time=   0.1s\n",
      "[CV] END ............................C=100, solver=liblinear; total time=   0.1s\n",
      "[CV] END ............................C=100, solver=liblinear; total time=   0.1s\n",
      "[CV] END ............................C=100, solver=liblinear; total time=   0.1s\n",
      "[CV] END ............................C=100, solver=liblinear; total time=   0.1s\n"
     ]
    },
    {
     "name": "stderr",
     "output_type": "stream",
     "text": [
      "/opt/conda/lib/python3.10/site-packages/sklearn/linear_model/_sag.py:350: ConvergenceWarning: The max_iter was reached which means the coef_ did not converge\n",
      "  warnings.warn(\n"
     ]
    },
    {
     "name": "stdout",
     "output_type": "stream",
     "text": [
      "[CV] END .................................C=100, solver=saga; total time=  10.8s\n"
     ]
    },
    {
     "name": "stderr",
     "output_type": "stream",
     "text": [
      "/opt/conda/lib/python3.10/site-packages/sklearn/linear_model/_sag.py:350: ConvergenceWarning: The max_iter was reached which means the coef_ did not converge\n",
      "  warnings.warn(\n"
     ]
    },
    {
     "name": "stdout",
     "output_type": "stream",
     "text": [
      "[CV] END .................................C=100, solver=saga; total time=  10.8s\n"
     ]
    },
    {
     "name": "stderr",
     "output_type": "stream",
     "text": [
      "/opt/conda/lib/python3.10/site-packages/sklearn/linear_model/_sag.py:350: ConvergenceWarning: The max_iter was reached which means the coef_ did not converge\n",
      "  warnings.warn(\n"
     ]
    },
    {
     "name": "stdout",
     "output_type": "stream",
     "text": [
      "[CV] END .................................C=100, solver=saga; total time=  11.0s\n"
     ]
    },
    {
     "name": "stderr",
     "output_type": "stream",
     "text": [
      "/opt/conda/lib/python3.10/site-packages/sklearn/linear_model/_sag.py:350: ConvergenceWarning: The max_iter was reached which means the coef_ did not converge\n",
      "  warnings.warn(\n"
     ]
    },
    {
     "name": "stdout",
     "output_type": "stream",
     "text": [
      "[CV] END .................................C=100, solver=saga; total time=  10.9s\n",
      "[CV] END .................................C=100, solver=saga; total time=  10.8s\n"
     ]
    },
    {
     "name": "stderr",
     "output_type": "stream",
     "text": [
      "/opt/conda/lib/python3.10/site-packages/sklearn/linear_model/_sag.py:350: ConvergenceWarning: The max_iter was reached which means the coef_ did not converge\n",
      "  warnings.warn(\n"
     ]
    }
   ],
   "source": [
    "param_grid = {'C': [0.1, 1, 10, 100], 'solver': ['liblinear', 'saga']}\n",
    "grid = GridSearchCV(LogisticRegression(), param_grid, refit=True, verbose=2, cv=5)\n",
    "grid.fit(X_train, y_train)\n",
    "y_pred_grid = grid.best_estimator_.predict(X_test)"
   ]
  },
  {
   "cell_type": "code",
   "execution_count": 17,
   "id": "158d5eca",
   "metadata": {
    "execution": {
     "iopub.execute_input": "2024-12-01T23:20:25.631063Z",
     "iopub.status.busy": "2024-12-01T23:20:25.630581Z",
     "iopub.status.idle": "2024-12-01T23:20:25.640321Z",
     "shell.execute_reply": "2024-12-01T23:20:25.639266Z"
    },
    "papermill": {
     "duration": 0.037634,
     "end_time": "2024-12-01T23:20:25.643512",
     "exception": false,
     "start_time": "2024-12-01T23:20:25.605878",
     "status": "completed"
    },
    "tags": []
   },
   "outputs": [],
   "source": [
    "def evaluate_model(y_test, y_pred, model_name):\n",
    "    print(f\"Model: {model_name}\")\n",
    "    print(\"Accuracy:\", accuracy_score(y_test, y_pred))\n",
    "    print(\"\\nClassification Report:\\n\", classification_report(y_test, y_pred))\n",
    "    print(\"\\nConfusion Matrix:\\n\", confusion_matrix(y_test, y_pred))\n",
    "    sns.heatmap(confusion_matrix(y_test, y_pred), annot=True, fmt='d', cmap='Blues')\n",
    "    plt.xlabel('Predicted')\n",
    "    plt.ylabel('Actual')\n",
    "    plt.title(f'Confusion Matrix - {model_name}')\n",
    "    plt.show()"
   ]
  },
  {
   "cell_type": "code",
   "execution_count": 18,
   "id": "bb1f5cd0",
   "metadata": {
    "execution": {
     "iopub.execute_input": "2024-12-01T23:20:25.691333Z",
     "iopub.status.busy": "2024-12-01T23:20:25.689092Z",
     "iopub.status.idle": "2024-12-01T23:20:26.737327Z",
     "shell.execute_reply": "2024-12-01T23:20:26.736474Z"
    },
    "papermill": {
     "duration": 1.073623,
     "end_time": "2024-12-01T23:20:26.739411",
     "exception": false,
     "start_time": "2024-12-01T23:20:25.665788",
     "status": "completed"
    },
    "tags": []
   },
   "outputs": [
    {
     "name": "stdout",
     "output_type": "stream",
     "text": [
      "Model: Naive Bayes\n",
      "Accuracy: 0.972488038277512\n",
      "\n",
      "Classification Report:\n",
      "               precision    recall  f1-score   support\n",
      "\n",
      "           0       0.97      1.00      0.98      1453\n",
      "           1       0.99      0.79      0.88       219\n",
      "\n",
      "    accuracy                           0.97      1672\n",
      "   macro avg       0.98      0.90      0.93      1672\n",
      "weighted avg       0.97      0.97      0.97      1672\n",
      "\n",
      "\n",
      "Confusion Matrix:\n",
      " [[1452    1]\n",
      " [  45  174]]\n"
     ]
    },
    {
     "data": {
      "image/png": "[encoded data removed]",
      "text/plain": [
       "<Figure size 640x480 with 2 Axes>"
      ]
     },
     "metadata": {},
     "output_type": "display_data"
    },
    {
     "name": "stdout",
     "output_type": "stream",
     "text": [
      "Model: SVM\n",
      "Accuracy: 0.9754784688995215\n",
      "\n",
      "Classification Report:\n",
      "               precision    recall  f1-score   support\n",
      "\n",
      "           0       0.97      1.00      0.99      1453\n",
      "           1       0.99      0.82      0.90       219\n",
      "\n",
      "    accuracy                           0.98      1672\n",
      "   macro avg       0.98      0.91      0.94      1672\n",
      "weighted avg       0.98      0.98      0.97      1672\n",
      "\n",
      "\n",
      "Confusion Matrix:\n",
      " [[1451    2]\n",
      " [  39  180]]\n"
     ]
    },
    {
     "data": {
      "image/png": "[encoded data removed]",
      "text/plain": [
       "<Figure size 640x480 with 2 Axes>"
      ]
     },
     "metadata": {},
     "output_type": "display_data"
    },
    {
     "name": "stdout",
     "output_type": "stream",
     "text": [
      "Model: Logistic Regression\n",
      "Accuracy: 0.9551435406698564\n",
      "\n",
      "Classification Report:\n",
      "               precision    recall  f1-score   support\n",
      "\n",
      "           0       0.95      1.00      0.97      1453\n",
      "           1       0.96      0.68      0.80       219\n",
      "\n",
      "    accuracy                           0.96      1672\n",
      "   macro avg       0.96      0.84      0.89      1672\n",
      "weighted avg       0.96      0.96      0.95      1672\n",
      "\n",
      "\n",
      "Confusion Matrix:\n",
      " [[1447    6]\n",
      " [  69  150]]\n"
     ]
    },
    {
     "data": {
      "image/png": "[encoded data removed]",
      "text/plain": [
       "<Figure size 640x480 with 2 Axes>"
      ]
     },
     "metadata": {},
     "output_type": "display_data"
    },
    {
     "name": "stdout",
     "output_type": "stream",
     "text": [
      "Model: Logistic Regression (Tuned)\n",
      "Accuracy: 0.9802631578947368\n",
      "\n",
      "Classification Report:\n",
      "               precision    recall  f1-score   support\n",
      "\n",
      "           0       0.98      1.00      0.99      1453\n",
      "           1       0.99      0.86      0.92       219\n",
      "\n",
      "    accuracy                           0.98      1672\n",
      "   macro avg       0.98      0.93      0.95      1672\n",
      "weighted avg       0.98      0.98      0.98      1672\n",
      "\n",
      "\n",
      "Confusion Matrix:\n",
      " [[1451    2]\n",
      " [  31  188]]\n"
     ]
    },
    {
     "data": {
      "image/png": "[encoded data removed]",
      "text/plain": [
       "<Figure size 640x480 with 2 Axes>"
      ]
     },
     "metadata": {},
     "output_type": "display_data"
    }
   ],
   "source": [
    "evaluate_model(y_test, y_pred_nb, \"Naive Bayes\")\n",
    "evaluate_model(y_test, y_pred_svm, \"SVM\")\n",
    "evaluate_model(y_test, y_pred_logreg, \"Logistic Regression\")\n",
    "evaluate_model(y_test, y_pred_grid, \"Logistic Regression (Tuned)\")"
   ]
  },
  {
   "cell_type": "code",
   "execution_count": 19,
   "id": "15629bee",
   "metadata": {
    "execution": {
     "iopub.execute_input": "2024-12-01T23:20:26.764020Z",
     "iopub.status.busy": "2024-12-01T23:20:26.763743Z",
     "iopub.status.idle": "2024-12-01T23:20:36.729394Z",
     "shell.execute_reply": "2024-12-01T23:20:36.728716Z"
    },
    "papermill": {
     "duration": 9.977249,
     "end_time": "2024-12-01T23:20:36.731400",
     "exception": false,
     "start_time": "2024-12-01T23:20:26.754151",
     "status": "completed"
    },
    "tags": []
   },
   "outputs": [],
   "source": [
    "from tensorflow.keras.models import Sequential\n",
    "from tensorflow.keras.layers import Embedding, Dense, Flatten\n",
    "from tensorflow.keras.preprocessing.text import Tokenizer\n",
    "from tensorflow.keras.preprocessing.sequence import pad_sequences"
   ]
  },
  {
   "cell_type": "code",
   "execution_count": 20,
   "id": "ac676cd1",
   "metadata": {
    "execution": {
     "iopub.execute_input": "2024-12-01T23:20:36.750685Z",
     "iopub.status.busy": "2024-12-01T23:20:36.750187Z",
     "iopub.status.idle": "2024-12-01T23:20:36.888064Z",
     "shell.execute_reply": "2024-12-01T23:20:36.887428Z"
    },
    "papermill": {
     "duration": 0.149246,
     "end_time": "2024-12-01T23:20:36.889852",
     "exception": false,
     "start_time": "2024-12-01T23:20:36.740606",
     "status": "completed"
    },
    "tags": []
   },
   "outputs": [],
   "source": [
    "tokenizer = Tokenizer(num_words=3000)\n",
    "tokenizer.fit_on_texts(data['processed_message'])\n",
    "X_nn = tokenizer.texts_to_sequences(data['processed_message'])\n",
    "X_nn = pad_sequences(X_nn, maxlen=100)"
   ]
  },
  {
   "cell_type": "code",
   "execution_count": 21,
   "id": "59b83c81",
   "metadata": {
    "execution": {
     "iopub.execute_input": "2024-12-01T23:20:36.908838Z",
     "iopub.status.busy": "2024-12-01T23:20:36.908563Z",
     "iopub.status.idle": "2024-12-01T23:20:36.914770Z",
     "shell.execute_reply": "2024-12-01T23:20:36.913878Z"
    },
    "papermill": {
     "duration": 0.017556,
     "end_time": "2024-12-01T23:20:36.916387",
     "exception": false,
     "start_time": "2024-12-01T23:20:36.898831",
     "status": "completed"
    },
    "tags": []
   },
   "outputs": [],
   "source": [
    "X_train_nn, X_test_nn, y_train_nn, y_test_nn = train_test_split(X_nn, y, test_size=0.3, random_state=42)"
   ]
  },
  {
   "cell_type": "code",
   "execution_count": 22,
   "id": "bfd895a8",
   "metadata": {
    "execution": {
     "iopub.execute_input": "2024-12-01T23:20:36.934747Z",
     "iopub.status.busy": "2024-12-01T23:20:36.934464Z",
     "iopub.status.idle": "2024-12-01T23:20:36.943561Z",
     "shell.execute_reply": "2024-12-01T23:20:36.942780Z"
    },
    "papermill": {
     "duration": 0.019976,
     "end_time": "2024-12-01T23:20:36.945094",
     "exception": false,
     "start_time": "2024-12-01T23:20:36.925118",
     "status": "completed"
    },
    "tags": []
   },
   "outputs": [],
   "source": [
    "model = Sequential()\n",
    "model.add(Embedding(input_dim=3000, output_dim=128))\n",
    "model.add(Flatten())\n",
    "model.add(Dense(10, activation='relu'))\n",
    "model.add(Dense(1, activation='sigmoid'))"
   ]
  },
  {
   "cell_type": "code",
   "execution_count": 23,
   "id": "3c2dd40c",
   "metadata": {
    "execution": {
     "iopub.execute_input": "2024-12-01T23:20:36.963324Z",
     "iopub.status.busy": "2024-12-01T23:20:36.963085Z",
     "iopub.status.idle": "2024-12-01T23:20:42.100907Z",
     "shell.execute_reply": "2024-12-01T23:20:42.100066Z"
    },
    "papermill": {
     "duration": 5.148851,
     "end_time": "2024-12-01T23:20:42.102558",
     "exception": false,
     "start_time": "2024-12-01T23:20:36.953707",
     "status": "completed"
    },
    "tags": []
   },
   "outputs": [
    {
     "name": "stdout",
     "output_type": "stream",
     "text": [
      "Epoch 1/5\n"
     ]
    },
    {
     "name": "stderr",
     "output_type": "stream",
     "text": [
      "WARNING: All log messages before absl::InitializeLog() is called are written to STDERR\n",
      "I0000 00:00:1733095238.798701      71 service.cc:145] XLA service 0x7bf56c009640 initialized for platform CUDA (this does not guarantee that XLA will be used). Devices:\n",
      "I0000 00:00:1733095238.798747      71 service.cc:153]   StreamExecutor device (0): Tesla T4, Compute Capability 7.5\n",
      "I0000 00:00:1733095238.798753      71 service.cc:153]   StreamExecutor device (1): Tesla T4, Compute Capability 7.5\n"
     ]
    },
    {
     "name": "stdout",
     "output_type": "stream",
     "text": [
      "\u001b[1m108/122\u001b[0m \u001b[32m━━━━━━━━━━━━━━━━━\u001b[0m\u001b[37m━━━\u001b[0m \u001b[1m0s\u001b[0m 1ms/step - accuracy: 0.8567 - loss: 0.3884"
     ]
    },
    {
     "name": "stderr",
     "output_type": "stream",
     "text": [
      "I0000 00:00:1733095239.848981      71 device_compiler.h:188] Compiled cluster using XLA!  This line is logged at most once for the lifetime of the process.\n"
     ]
    },
    {
     "name": "stdout",
     "output_type": "stream",
     "text": [
      "\u001b[1m122/122\u001b[0m \u001b[32m━━━━━━━━━━━━━━━━━━━━\u001b[0m\u001b[37m\u001b[0m \u001b[1m3s\u001b[0m 10ms/step - accuracy: 0.8597 - loss: 0.3751 - val_accuracy: 0.9659 - val_loss: 0.1650\n",
      "Epoch 2/5\n",
      "\u001b[1m122/122\u001b[0m \u001b[32m━━━━━━━━━━━━━━━━━━━━\u001b[0m\u001b[37m\u001b[0m \u001b[1m0s\u001b[0m 2ms/step - accuracy: 0.9787 - loss: 0.1000 - val_accuracy: 0.9833 - val_loss: 0.0564\n",
      "Epoch 3/5\n",
      "\u001b[1m122/122\u001b[0m \u001b[32m━━━━━━━━━━━━━━━━━━━━\u001b[0m\u001b[37m\u001b[0m \u001b[1m0s\u001b[0m 2ms/step - accuracy: 0.9933 - loss: 0.0214 - val_accuracy: 0.9874 - val_loss: 0.0466\n",
      "Epoch 4/5\n",
      "\u001b[1m122/122\u001b[0m \u001b[32m━━━━━━━━━━━━━━━━━━━━\u001b[0m\u001b[37m\u001b[0m \u001b[1m0s\u001b[0m 2ms/step - accuracy: 0.9978 - loss: 0.0099 - val_accuracy: 0.9874 - val_loss: 0.0519\n",
      "Epoch 5/5\n",
      "\u001b[1m122/122\u001b[0m \u001b[32m━━━━━━━━━━━━━━━━━━━━\u001b[0m\u001b[37m\u001b[0m \u001b[1m0s\u001b[0m 2ms/step - accuracy: 0.9971 - loss: 0.0108 - val_accuracy: 0.9862 - val_loss: 0.0477\n"
     ]
    },
    {
     "data": {
      "text/plain": [
       "<keras.src.callbacks.history.History at 0x7bf98914c880>"
      ]
     },
     "execution_count": 23,
     "metadata": {},
     "output_type": "execute_result"
    }
   ],
   "source": [
    "model.compile(optimizer='adam', loss='binary_crossentropy', metrics=['accuracy'])\n",
    "model.fit(X_train_nn, y_train_nn, epochs=5, batch_size=32, validation_data=(X_test_nn, y_test_nn))"
   ]
  },
  {
   "cell_type": "code",
   "execution_count": 24,
   "id": "343e9c6e",
   "metadata": {
    "execution": {
     "iopub.execute_input": "2024-12-01T23:20:42.126316Z",
     "iopub.status.busy": "2024-12-01T23:20:42.126061Z",
     "iopub.status.idle": "2024-12-01T23:20:42.521522Z",
     "shell.execute_reply": "2024-12-01T23:20:42.520866Z"
    },
    "papermill": {
     "duration": 0.409146,
     "end_time": "2024-12-01T23:20:42.523243",
     "exception": false,
     "start_time": "2024-12-01T23:20:42.114097",
     "status": "completed"
    },
    "tags": []
   },
   "outputs": [
    {
     "name": "stdout",
     "output_type": "stream",
     "text": [
      "\u001b[1m53/53\u001b[0m \u001b[32m━━━━━━━━━━━━━━━━━━━━\u001b[0m\u001b[37m\u001b[0m \u001b[1m0s\u001b[0m 3ms/step\n"
     ]
    }
   ],
   "source": [
    "y_pred_nn = (model.predict(X_test_nn) > 0.5).astype(\"int32\")"
   ]
  },
  {
   "cell_type": "code",
   "execution_count": 25,
   "id": "aad47463",
   "metadata": {
    "execution": {
     "iopub.execute_input": "2024-12-01T23:20:42.546309Z",
     "iopub.status.busy": "2024-12-01T23:20:42.546030Z",
     "iopub.status.idle": "2024-12-01T23:20:42.796496Z",
     "shell.execute_reply": "2024-12-01T23:20:42.795705Z"
    },
    "papermill": {
     "duration": 0.263551,
     "end_time": "2024-12-01T23:20:42.798129",
     "exception": false,
     "start_time": "2024-12-01T23:20:42.534578",
     "status": "completed"
    },
    "tags": []
   },
   "outputs": [
    {
     "name": "stdout",
     "output_type": "stream",
     "text": [
      "Model: Neural Network\n",
      "Accuracy: 0.986244019138756\n",
      "\n",
      "Classification Report:\n",
      "               precision    recall  f1-score   support\n",
      "\n",
      "           0       0.99      1.00      0.99      1453\n",
      "           1       0.97      0.92      0.95       219\n",
      "\n",
      "    accuracy                           0.99      1672\n",
      "   macro avg       0.98      0.96      0.97      1672\n",
      "weighted avg       0.99      0.99      0.99      1672\n",
      "\n",
      "\n",
      "Confusion Matrix:\n",
      " [[1447    6]\n",
      " [  17  202]]\n"
     ]
    },
    {
     "data": {
      "image/png": "[encoded data removed]",
      "text/plain": [
       "<Figure size 640x480 with 2 Axes>"
      ]
     },
     "metadata": {},
     "output_type": "display_data"
    }
   ],
   "source": [
    "evaluate_model(y_test_nn, y_pred_nn, \"Neural Network\")"
   ]
  },
  {
   "cell_type": "code",
   "execution_count": 26,
   "id": "9df23a98",
   "metadata": {
    "execution": {
     "iopub.execute_input": "2024-12-01T23:20:42.821377Z",
     "iopub.status.busy": "2024-12-01T23:20:42.821116Z",
     "iopub.status.idle": "2024-12-01T23:20:42.940066Z",
     "shell.execute_reply": "2024-12-01T23:20:42.939391Z"
    },
    "papermill": {
     "duration": 0.13237,
     "end_time": "2024-12-01T23:20:42.941753",
     "exception": false,
     "start_time": "2024-12-01T23:20:42.809383",
     "status": "completed"
    },
    "tags": []
   },
   "outputs": [],
   "source": [
    "from sklearn.ensemble import VotingClassifier, StackingClassifier"
   ]
  },
  {
   "cell_type": "code",
   "execution_count": 27,
   "id": "9cb48a86",
   "metadata": {
    "execution": {
     "iopub.execute_input": "2024-12-01T23:20:42.964969Z",
     "iopub.status.busy": "2024-12-01T23:20:42.964702Z",
     "iopub.status.idle": "2024-12-01T23:21:03.371920Z",
     "shell.execute_reply": "2024-12-01T23:21:03.370556Z"
    },
    "papermill": {
     "duration": 20.422222,
     "end_time": "2024-12-01T23:21:03.375345",
     "exception": false,
     "start_time": "2024-12-01T23:20:42.953123",
     "status": "completed"
    },
    "tags": []
   },
   "outputs": [],
   "source": [
    "voting_clf = VotingClassifier(estimators=[\n",
    "    ('nb', nb_model), \n",
    "    ('svm', svm_model), \n",
    "    ('logreg', logreg_model)], voting='hard')\n",
    "\n",
    "voting_clf.fit(X_train, y_train)\n",
    "y_pred_voting = voting_clf.predict(X_test)"
   ]
  },
  {
   "cell_type": "code",
   "execution_count": 28,
   "id": "ca557db8",
   "metadata": {
    "execution": {
     "iopub.execute_input": "2024-12-01T23:21:03.467366Z",
     "iopub.status.busy": "2024-12-01T23:21:03.465739Z",
     "iopub.status.idle": "2024-12-01T23:21:03.476031Z",
     "shell.execute_reply": "2024-12-01T23:21:03.473061Z"
    },
    "papermill": {
     "duration": 0.060975,
     "end_time": "2024-12-01T23:21:03.479474",
     "exception": false,
     "start_time": "2024-12-01T23:21:03.418499",
     "status": "completed"
    },
    "tags": []
   },
   "outputs": [],
   "source": [
    "stacking_clf = StackingClassifier(estimators=[\n",
    "    ('nb', nb_model), \n",
    "    ('svm', svm_model)], final_estimator=LogisticRegression())"
   ]
  },
  {
   "cell_type": "code",
   "execution_count": 29,
   "id": "abaa0784",
   "metadata": {
    "execution": {
     "iopub.execute_input": "2024-12-01T23:21:03.503184Z",
     "iopub.status.busy": "2024-12-01T23:21:03.502953Z",
     "iopub.status.idle": "2024-12-01T23:22:20.243272Z",
     "shell.execute_reply": "2024-12-01T23:22:20.242015Z"
    },
    "papermill": {
     "duration": 76.754386,
     "end_time": "2024-12-01T23:22:20.245593",
     "exception": false,
     "start_time": "2024-12-01T23:21:03.491207",
     "status": "completed"
    },
    "tags": []
   },
   "outputs": [],
   "source": [
    "stacking_clf.fit(X_train, y_train)\n",
    "y_pred_stacking = stacking_clf.predict(X_test)"
   ]
  },
  {
   "cell_type": "code",
   "execution_count": 30,
   "id": "1af128ac",
   "metadata": {
    "execution": {
     "iopub.execute_input": "2024-12-01T23:22:20.269720Z",
     "iopub.status.busy": "2024-12-01T23:22:20.269391Z",
     "iopub.status.idle": "2024-12-01T23:22:20.687093Z",
     "shell.execute_reply": "2024-12-01T23:22:20.685797Z"
    },
    "papermill": {
     "duration": 0.433395,
     "end_time": "2024-12-01T23:22:20.690816",
     "exception": false,
     "start_time": "2024-12-01T23:22:20.257421",
     "status": "completed"
    },
    "tags": []
   },
   "outputs": [
    {
     "name": "stdout",
     "output_type": "stream",
     "text": [
      "Model: Voting Classifier\n",
      "Accuracy: 0.9712918660287081\n",
      "\n",
      "Classification Report:\n",
      "               precision    recall  f1-score   support\n",
      "\n",
      "           0       0.97      1.00      0.98      1453\n",
      "           1       0.99      0.79      0.88       219\n",
      "\n",
      "    accuracy                           0.97      1672\n",
      "   macro avg       0.98      0.89      0.93      1672\n",
      "weighted avg       0.97      0.97      0.97      1672\n",
      "\n",
      "\n",
      "Confusion Matrix:\n",
      " [[1451    2]\n",
      " [  46  173]]\n"
     ]
    },
    {
     "data": {
      "image/png": "[encoded data removed]",
      "text/plain": [
       "<Figure size 640x480 with 2 Axes>"
      ]
     },
     "metadata": {},
     "output_type": "display_data"
    },
    {
     "name": "stdout",
     "output_type": "stream",
     "text": [
      "Model: Stacking Classifier\n",
      "Accuracy: 0.9838516746411483\n",
      "\n",
      "Classification Report:\n",
      "               precision    recall  f1-score   support\n",
      "\n",
      "           0       0.98      1.00      0.99      1453\n",
      "           1       0.98      0.89      0.94       219\n",
      "\n",
      "    accuracy                           0.98      1672\n",
      "   macro avg       0.98      0.94      0.96      1672\n",
      "weighted avg       0.98      0.98      0.98      1672\n",
      "\n",
      "\n",
      "Confusion Matrix:\n",
      " [[1450    3]\n",
      " [  24  195]]\n"
     ]
    },
    {
     "data": {
      "image/png": "[encoded data removed]",
      "text/plain": [
       "<Figure size 640x480 with 2 Axes>"
      ]
     },
     "metadata": {},
     "output_type": "display_data"
    }
   ],
   "source": [
    "evaluate_model(y_test, y_pred_voting, \"Voting Classifier\")\n",
    "evaluate_model(y_test, y_pred_stacking, \"Stacking Classifier\")"
   ]
  },
  {
   "cell_type": "code",
   "execution_count": 31,
   "id": "eafc3f89",
   "metadata": {
    "execution": {
     "iopub.execute_input": "2024-12-01T23:22:20.718077Z",
     "iopub.status.busy": "2024-12-01T23:22:20.717823Z",
     "iopub.status.idle": "2024-12-01T23:22:20.722333Z",
     "shell.execute_reply": "2024-12-01T23:22:20.721543Z"
    },
    "papermill": {
     "duration": 0.019051,
     "end_time": "2024-12-01T23:22:20.724009",
     "exception": false,
     "start_time": "2024-12-01T23:22:20.704958",
     "status": "completed"
    },
    "tags": []
   },
   "outputs": [],
   "source": [
    "def sigmoid(x):\n",
    "    return 1 / (1 + np.exp(-x))\n",
    "\n",
    "def sigmoid_derivative(x):\n",
    "    return x * (1 - x)\n",
    "\n",
    "def leaky_relu(Z):\n",
    "    return np.where(Z > 0, Z, Z * 0.01)\n",
    "\n",
    "def leaky_relu_derivative(Z):\n",
    "    return np.where(Z > 0, 1, 0.01)"
   ]
  },
  {
   "cell_type": "code",
   "execution_count": 32,
   "id": "ad012c9f",
   "metadata": {
    "execution": {
     "iopub.execute_input": "2024-12-01T23:22:20.748515Z",
     "iopub.status.busy": "2024-12-01T23:22:20.748268Z",
     "iopub.status.idle": "2024-12-01T23:22:20.792978Z",
     "shell.execute_reply": "2024-12-01T23:22:20.792180Z"
    },
    "papermill": {
     "duration": 0.059283,
     "end_time": "2024-12-01T23:22:20.794963",
     "exception": false,
     "start_time": "2024-12-01T23:22:20.735680",
     "status": "completed"
    },
    "tags": []
   },
   "outputs": [],
   "source": [
    "X_train, X_test, y_train, y_test = train_test_split(X, y, test_size=0.3, random_state=42)"
   ]
  },
  {
   "cell_type": "code",
   "execution_count": 33,
   "id": "b48dc074",
   "metadata": {
    "execution": {
     "iopub.execute_input": "2024-12-01T23:22:20.820237Z",
     "iopub.status.busy": "2024-12-01T23:22:20.819965Z",
     "iopub.status.idle": "2024-12-01T23:22:20.823843Z",
     "shell.execute_reply": "2024-12-01T23:22:20.822998Z"
    },
    "papermill": {
     "duration": 0.018114,
     "end_time": "2024-12-01T23:22:20.825457",
     "exception": false,
     "start_time": "2024-12-01T23:22:20.807343",
     "status": "completed"
    },
    "tags": []
   },
   "outputs": [],
   "source": [
    "input_size = X_train.shape[1]\n",
    "hidden_size = 30\n",
    "output_size = 1 \n",
    "learning_rate = 1\n",
    "epochs = 1000"
   ]
  },
  {
   "cell_type": "code",
   "execution_count": 34,
   "id": "82ab1e0d",
   "metadata": {
    "execution": {
     "iopub.execute_input": "2024-12-01T23:22:20.850033Z",
     "iopub.status.busy": "2024-12-01T23:22:20.849785Z",
     "iopub.status.idle": "2024-12-01T23:22:20.857759Z",
     "shell.execute_reply": "2024-12-01T23:22:20.857155Z"
    },
    "papermill": {
     "duration": 0.022089,
     "end_time": "2024-12-01T23:22:20.859399",
     "exception": false,
     "start_time": "2024-12-01T23:22:20.837310",
     "status": "completed"
    },
    "tags": []
   },
   "outputs": [],
   "source": [
    "W1 = np.random.randn(input_size, hidden_size) * np.sqrt(2. / input_size)\n",
    "b1 = np.zeros((1, hidden_size))\n",
    "W2 = np.random.randn(hidden_size, output_size) * np.sqrt(2. / hidden_size)\n",
    "b2 = np.zeros((1, output_size))"
   ]
  },
  {
   "cell_type": "code",
   "execution_count": 35,
   "id": "2340354a",
   "metadata": {
    "execution": {
     "iopub.execute_input": "2024-12-01T23:22:20.883603Z",
     "iopub.status.busy": "2024-12-01T23:22:20.883366Z",
     "iopub.status.idle": "2024-12-01T23:22:58.997616Z",
     "shell.execute_reply": "2024-12-01T23:22:58.996495Z"
    },
    "papermill": {
     "duration": 38.130134,
     "end_time": "2024-12-01T23:22:59.001237",
     "exception": false,
     "start_time": "2024-12-01T23:22:20.871103",
     "status": "completed"
    },
    "tags": []
   },
   "outputs": [
    {
     "name": "stdout",
     "output_type": "stream",
     "text": [
      "Epoch 0/1000 - Loss: 0.689955122757695\n",
      "Epoch 100/1000 - Loss: 0.17933875105141683\n",
      "Epoch 200/1000 - Loss: 0.07000489536417595\n",
      "Epoch 300/1000 - Loss: 0.041946784977746114\n",
      "Epoch 400/1000 - Loss: 0.028247236177968253\n",
      "Epoch 500/1000 - Loss: 0.020319214144689332\n",
      "Epoch 600/1000 - Loss: 0.015419986895681581\n",
      "Epoch 700/1000 - Loss: 0.012218248363957579\n",
      "Epoch 800/1000 - Loss: 0.0099998734609317\n",
      "Epoch 900/1000 - Loss: 0.008389297277638777\n"
     ]
    }
   ],
   "source": [
    "for epoch in range(epochs):\n",
    "    \n",
    "    Z1 = np.dot(X_train, W1) + b1\n",
    "    A1 = leaky_relu(Z1)\n",
    "    Z2 = np.dot(A1, W2) + b2\n",
    "    A2 = sigmoid(Z2)\n",
    "    \n",
    "    y_train_np = y_train.values.reshape(-1, 1)\n",
    "\n",
    "    m = y_train.shape[0]\n",
    "    loss = -(1/m) * np.sum(y_train_np * np.log(A2 + 1e-8) + (1 - y_train_np) * np.log(1 - A2 + 1e-8))\n",
    "    \n",
    "    dZ2 = A2 - y_train_np.reshape(-1, 1)\n",
    "    dW2 = (1/m) * np.dot(A1.T, dZ2)\n",
    "    db2 = (1/m) * np.sum(dZ2, axis=0, keepdims=True)\n",
    "\n",
    "    dA1 = np.dot(dZ2, W2.T)\n",
    "    dZ1 = dA1 * leaky_relu_derivative(A1)\n",
    "    dW1 = (1/m) * np.dot(X_train.T, dZ1)\n",
    "    db1 = (1/m) * np.sum(dZ1, axis=0, keepdims=True)\n",
    "\n",
    "    W1 -= learning_rate * dW1\n",
    "    b1 -= learning_rate * db1\n",
    "    W2 -= learning_rate * dW2\n",
    "    b2 -= learning_rate * db2\n",
    "\n",
    "    if epoch % 100 == 0:\n",
    "        print(f'Epoch {epoch}/{epochs} - Loss: {loss}')"
   ]
  },
  {
   "cell_type": "code",
   "execution_count": 36,
   "id": "c83b6cad",
   "metadata": {
    "execution": {
     "iopub.execute_input": "2024-12-01T23:22:59.074333Z",
     "iopub.status.busy": "2024-12-01T23:22:59.073823Z",
     "iopub.status.idle": "2024-12-01T23:22:59.087975Z",
     "shell.execute_reply": "2024-12-01T23:22:59.086955Z"
    },
    "papermill": {
     "duration": 0.054074,
     "end_time": "2024-12-01T23:22:59.091125",
     "exception": false,
     "start_time": "2024-12-01T23:22:59.037051",
     "status": "completed"
    },
    "tags": []
   },
   "outputs": [],
   "source": [
    "def evaluate_model_NN(X_test, y_test, W1, b1, W2, b2):\n",
    "    \n",
    "    Z1_test = np.dot(X_test, W1) + b1\n",
    "    A1_test = leaky_relu(Z1_test)\n",
    "    Z2_test = np.dot(A1_test, W2) + b2\n",
    "    A2_test = sigmoid(Z2_test)\n",
    "    \n",
    "    y_pred = (A2_test > 0.5).astype(int).flatten()\n",
    "\n",
    "    accuracy = accuracy_score(y_test, y_pred)\n",
    "    print(f'Accuracy: {accuracy * 100:.2f}%')\n",
    "\n",
    "    print(\"\\nClassification Report:\\n\", classification_report(y_test, y_pred, zero_division=0))\n",
    "    print(\"\\nConfusion Matrix:\\n\", confusion_matrix(y_test, y_pred))\n",
    "    \n",
    "    sns.heatmap(confusion_matrix(y_test, y_pred), annot=True, fmt='d', cmap='Blues')\n",
    "    plt.xlabel('Predicted')\n",
    "    plt.ylabel('Actual')\n",
    "    plt.title(f'Confusion Matrix - NN')\n",
    "    plt.show()\n",
    "\n",
    "    return accuracy, y_pred"
   ]
  },
  {
   "cell_type": "code",
   "execution_count": 37,
   "id": "4ce20f3d",
   "metadata": {
    "execution": {
     "iopub.execute_input": "2024-12-01T23:22:59.141981Z",
     "iopub.status.busy": "2024-12-01T23:22:59.141560Z",
     "iopub.status.idle": "2024-12-01T23:22:59.403001Z",
     "shell.execute_reply": "2024-12-01T23:22:59.402194Z"
    },
    "papermill": {
     "duration": 0.277744,
     "end_time": "2024-12-01T23:22:59.404780",
     "exception": false,
     "start_time": "2024-12-01T23:22:59.127036",
     "status": "completed"
    },
    "tags": []
   },
   "outputs": [
    {
     "name": "stdout",
     "output_type": "stream",
     "text": [
      "Accuracy: 98.03%\n",
      "\n",
      "Classification Report:\n",
      "               precision    recall  f1-score   support\n",
      "\n",
      "           0       0.98      1.00      0.99      1453\n",
      "           1       0.99      0.86      0.92       219\n",
      "\n",
      "    accuracy                           0.98      1672\n",
      "   macro avg       0.98      0.93      0.95      1672\n",
      "weighted avg       0.98      0.98      0.98      1672\n",
      "\n",
      "\n",
      "Confusion Matrix:\n",
      " [[1451    2]\n",
      " [  31  188]]\n"
     ]
    },
    {
     "data": {
      "image/png": "[encoded data removed]",
      "text/plain": [
       "<Figure size 640x480 with 2 Axes>"
      ]
     },
     "metadata": {},
     "output_type": "display_data"
    }
   ],
   "source": [
    "accuracy, y_pred = evaluate_model_NN(X_test, y_test, W1, b1, W2, b2)"
   ]
  }
 ],
 "metadata": {
  "kaggle": {
   "accelerator": "nvidiaTeslaT4",
   "dataSources": [
    {
     "datasetId": 483,
     "sourceId": 982,
     "sourceType": "datasetVersion"
    }
   ],
   "dockerImageVersionId": 30761,
   "isGpuEnabled": true,
   "isInternetEnabled": true,
   "language": "python",
   "sourceType": "notebook"
  },
  "kernelspec": {
   "display_name": "Python 3",
   "language": "python",
   "name": "python3"
  },
  "language_info": {
   "codemirror_mode": {
    "name": "ipython",
    "version": 3
   },
   "file_extension": ".py",
   "mimetype": "text/x-python",
   "name": "python",
   "nbconvert_exporter": "python",
   "pygments_lexer": "ipython3",
   "version": "3.10.14"
  },
  "papermill": {
   "default_parameters": {},
   "duration": 295.817458,
   "end_time": "2024-12-01T23:23:02.113102",
   "environment_variables": {},
   "exception": null,
   "input_path": "__notebook__.ipynb",
   "output_path": "__notebook__.ipynb",
   "parameters": {},
   "start_time": "2024-12-01T23:18:06.295644",
   "version": "2.6.0"
  }
 },
 "nbformat": 4,
 "nbformat_minor": 5
}
