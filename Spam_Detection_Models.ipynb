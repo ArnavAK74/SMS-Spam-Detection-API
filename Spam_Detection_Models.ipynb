{
 "cells": [
  {
   "cell_type": "code",
   "execution_count": 1,
   "id": "46a04b81",
   "metadata": {
    "_cell_guid": "b1076dfc-b9ad-4769-8c92-a6c4dae69d19",
    "_uuid": "8f2839f25d086af736a60e9eeb907d3b93b6e0e5",
    "execution": {
     "iopub.execute_input": "2024-12-01T23:26:49.806528Z",
     "iopub.status.busy": "2024-12-01T23:26:49.806234Z",
     "iopub.status.idle": "2024-12-01T23:26:50.472574Z",
     "shell.execute_reply": "2024-12-01T23:26:50.471685Z"
    },
    "papermill": {
     "duration": 0.675483,
     "end_time": "2024-12-01T23:26:50.474420",
     "exception": false,
     "start_time": "2024-12-01T23:26:49.798937",
     "status": "completed"
    },
    "tags": []
   },
   "outputs": [
    {
     "name": "stdout",
     "output_type": "stream",
     "text": [
      "/kaggle/input/sms-spam-collection-dataset/spam.csv\n"
     ]
    }
   ],
   "source": [
    "# This Python 3 environment comes with many helpful analytics libraries installed\n",
    "# It is defined by the kaggle/python Docker image: https://github.com/kaggle/docker-python\n",
    "# For example, here's several helpful packages to load\n",
    "\n",
    "import numpy as np # linear algebra\n",
    "import pandas as pd # data processing, CSV file I/O (e.g. pd.read_csv)\n",
    "\n",
    "# Input data files are available in the read-only \"../input/\" directory\n",
    "# For example, running this (by clicking run or pressing Shift+Enter) will list all files under the input directory\n",
    "\n",
    "import os\n",
    "for dirname, _, filenames in os.walk('/kaggle/input'):\n",
    "    for filename in filenames:\n",
    "        print(os.path.join(dirname, filename))\n",
    "\n",
    "# You can write up to 20GB to the current directory (/kaggle/working/) that gets preserved as output when you create a version using \"Save & Run All\" \n",
    "# You can also write temporary files to /kaggle/temp/, but they won't be saved outside of the current session"
   ]
  },
  {
   "cell_type": "code",
   "execution_count": 2,
   "id": "97b206e5",
   "metadata": {
    "execution": {
     "iopub.execute_input": "2024-12-01T23:26:50.487030Z",
     "iopub.status.busy": "2024-12-01T23:26:50.486699Z",
     "iopub.status.idle": "2024-12-01T23:26:52.312391Z",
     "shell.execute_reply": "2024-12-01T23:26:52.311746Z"
    },
    "papermill": {
     "duration": 1.833841,
     "end_time": "2024-12-01T23:26:52.314241",
     "exception": false,
     "start_time": "2024-12-01T23:26:50.480400",
     "status": "completed"
    },
    "tags": []
   },
   "outputs": [],
   "source": [
    "import matplotlib.pyplot as plt\n",
    "import seaborn as sns\n",
    "from sklearn.model_selection import train_test_split, GridSearchCV\n",
    "from sklearn.feature_extraction.text import TfidfVectorizer\n",
    "from sklearn.naive_bayes import MultinomialNB\n",
    "from sklearn.svm import SVC\n",
    "from sklearn.linear_model import LogisticRegression\n",
    "from sklearn.metrics import classification_report, confusion_matrix, accuracy_score\n",
    "import nltk\n",
    "from nltk.corpus import stopwords\n",
    "from nltk.stem import WordNetLemmatizer\n",
    "import re"
   ]
  },
  {
   "cell_type": "code",
   "execution_count": 3,
   "id": "e6a92e12",
   "metadata": {
    "execution": {
     "iopub.execute_input": "2024-12-01T23:26:52.327275Z",
     "iopub.status.busy": "2024-12-01T23:26:52.326536Z",
     "iopub.status.idle": "2024-12-01T23:26:52.367354Z",
     "shell.execute_reply": "2024-12-01T23:26:52.366801Z"
    },
    "papermill": {
     "duration": 0.048742,
     "end_time": "2024-12-01T23:26:52.368865",
     "exception": false,
     "start_time": "2024-12-01T23:26:52.320123",
     "status": "completed"
    },
    "tags": []
   },
   "outputs": [],
   "source": [
    "data = pd.read_csv('/kaggle/input/sms-spam-collection-dataset/spam.csv', encoding='latin-1')\n",
    "data = data[['v1', 'v2']]  \n",
    "data.columns = ['label', 'message']"
   ]
  },
  {
   "cell_type": "code",
   "execution_count": 4,
   "id": "9aef935d",
   "metadata": {
    "execution": {
     "iopub.execute_input": "2024-12-01T23:26:52.381035Z",
     "iopub.status.busy": "2024-12-01T23:26:52.380790Z",
     "iopub.status.idle": "2024-12-01T23:26:52.394953Z",
     "shell.execute_reply": "2024-12-01T23:26:52.394001Z"
    },
    "papermill": {
     "duration": 0.022129,
     "end_time": "2024-12-01T23:26:52.396490",
     "exception": false,
     "start_time": "2024-12-01T23:26:52.374361",
     "status": "completed"
    },
    "tags": []
   },
   "outputs": [
    {
     "name": "stdout",
     "output_type": "stream",
     "text": [
      "  label                                            message\n",
      "0   ham  Go until jurong point, crazy.. Available only ...\n",
      "1   ham                      Ok lar... Joking wif u oni...\n",
      "2  spam  Free entry in 2 a wkly comp to win FA Cup fina...\n",
      "3   ham  U dun say so early hor... U c already then say...\n",
      "4   ham  Nah I don't think he goes to usf, he lives aro...\n",
      "label\n",
      "ham     4825\n",
      "spam     747\n",
      "Name: count, dtype: int64\n"
     ]
    }
   ],
   "source": [
    "print(data.head())\n",
    "print(data['label'].value_counts())"
   ]
  },
  {
   "cell_type": "code",
   "execution_count": 5,
   "id": "1cfaab9b",
   "metadata": {
    "execution": {
     "iopub.execute_input": "2024-12-01T23:26:52.408768Z",
     "iopub.status.busy": "2024-12-01T23:26:52.408302Z",
     "iopub.status.idle": "2024-12-01T23:26:52.421851Z",
     "shell.execute_reply": "2024-12-01T23:26:52.421062Z"
    },
    "papermill": {
     "duration": 0.02107,
     "end_time": "2024-12-01T23:26:52.423340",
     "exception": false,
     "start_time": "2024-12-01T23:26:52.402270",
     "status": "completed"
    },
    "tags": []
   },
   "outputs": [
    {
     "name": "stdout",
     "output_type": "stream",
     "text": [
      "<class 'pandas.core.frame.DataFrame'>\n",
      "RangeIndex: 5572 entries, 0 to 5571\n",
      "Data columns (total 2 columns):\n",
      " #   Column   Non-Null Count  Dtype \n",
      "---  ------   --------------  ----- \n",
      " 0   label    5572 non-null   object\n",
      " 1   message  5572 non-null   object\n",
      "dtypes: object(2)\n",
      "memory usage: 87.2+ KB\n"
     ]
    },
    {
     "data": {
      "text/plain": [
       "(5572, 2)"
      ]
     },
     "execution_count": 5,
     "metadata": {},
     "output_type": "execute_result"
    }
   ],
   "source": [
    "data.info()\n",
    "data.shape"
   ]
  },
  {
   "cell_type": "code",
   "execution_count": 6,
   "id": "8c9ce5c4",
   "metadata": {
    "execution": {
     "iopub.execute_input": "2024-12-01T23:26:52.435727Z",
     "iopub.status.busy": "2024-12-01T23:26:52.435284Z",
     "iopub.status.idle": "2024-12-01T23:26:52.570382Z",
     "shell.execute_reply": "2024-12-01T23:26:52.569657Z"
    },
    "papermill": {
     "duration": 0.143099,
     "end_time": "2024-12-01T23:26:52.572068",
     "exception": false,
     "start_time": "2024-12-01T23:26:52.428969",
     "status": "completed"
    },
    "tags": []
   },
   "outputs": [
    {
     "name": "stdout",
     "output_type": "stream",
     "text": [
      "[nltk_data] Downloading package stopwords to /usr/share/nltk_data...\n",
      "[nltk_data]   Package stopwords is already up-to-date!\n",
      "[nltk_data] Downloading package wordnet to /usr/share/nltk_data...\n",
      "[nltk_data]   Package wordnet is already up-to-date!\n"
     ]
    },
    {
     "data": {
      "text/plain": [
       "True"
      ]
     },
     "execution_count": 6,
     "metadata": {},
     "output_type": "execute_result"
    }
   ],
   "source": [
    "nltk.download('stopwords')\n",
    "nltk.download('wordnet')"
   ]
  },
  {
   "cell_type": "code",
   "execution_count": 7,
   "id": "f70b8fa5",
   "metadata": {
    "execution": {
     "iopub.execute_input": "2024-12-01T23:26:52.585016Z",
     "iopub.status.busy": "2024-12-01T23:26:52.584517Z",
     "iopub.status.idle": "2024-12-01T23:26:52.801167Z",
     "shell.execute_reply": "2024-12-01T23:26:52.800258Z"
    },
    "papermill": {
     "duration": 0.225207,
     "end_time": "2024-12-01T23:26:52.803133",
     "exception": false,
     "start_time": "2024-12-01T23:26:52.577926",
     "status": "completed"
    },
    "tags": []
   },
   "outputs": [],
   "source": [
    "import zipfile\n",
    "import os\n",
    "\n",
    "resource_path = '/usr/share/nltk_data/corpora'\n",
    "wordnet_zip = '/usr/share/nltk_data/corpora/wordnet.zip'\n",
    "\n",
    "\n",
    "with zipfile.ZipFile(wordnet_zip, 'r') as zip_ref:\n",
    "    zip_ref.extractall(resource_path) "
   ]
  },
  {
   "cell_type": "code",
   "execution_count": 8,
   "id": "307837bd",
   "metadata": {
    "execution": {
     "iopub.execute_input": "2024-12-01T23:26:52.816334Z",
     "iopub.status.busy": "2024-12-01T23:26:52.816078Z",
     "iopub.status.idle": "2024-12-01T23:26:52.821420Z",
     "shell.execute_reply": "2024-12-01T23:26:52.820852Z"
    },
    "papermill": {
     "duration": 0.013747,
     "end_time": "2024-12-01T23:26:52.823084",
     "exception": false,
     "start_time": "2024-12-01T23:26:52.809337",
     "status": "completed"
    },
    "tags": []
   },
   "outputs": [],
   "source": [
    "stop_words = set(stopwords.words('english'))\n",
    "lemmatizer = WordNetLemmatizer()"
   ]
  },
  {
   "cell_type": "code",
   "execution_count": 9,
   "id": "c62bac76",
   "metadata": {
    "execution": {
     "iopub.execute_input": "2024-12-01T23:26:52.835649Z",
     "iopub.status.busy": "2024-12-01T23:26:52.835387Z",
     "iopub.status.idle": "2024-12-01T23:26:52.839432Z",
     "shell.execute_reply": "2024-12-01T23:26:52.838757Z"
    },
    "papermill": {
     "duration": 0.012052,
     "end_time": "2024-12-01T23:26:52.840903",
     "exception": false,
     "start_time": "2024-12-01T23:26:52.828851",
     "status": "completed"
    },
    "tags": []
   },
   "outputs": [],
   "source": [
    "def preprocess_text(text):\n",
    "    text = re.sub(r'\\W', ' ', text)\n",
    "    text = re.sub(r'\\d', ' ', text)\n",
    "    text = text.lower()\n",
    "    words = text.split()\n",
    "    words = [lemmatizer.lemmatize(word) for word in words if word not in stop_words]\n",
    "    return ' '.join(words)"
   ]
  },
  {
   "cell_type": "code",
   "execution_count": 10,
   "id": "726c7584",
   "metadata": {
    "execution": {
     "iopub.execute_input": "2024-12-01T23:26:52.853427Z",
     "iopub.status.busy": "2024-12-01T23:26:52.853186Z",
     "iopub.status.idle": "2024-12-01T23:26:54.244076Z",
     "shell.execute_reply": "2024-12-01T23:26:54.243326Z"
    },
    "papermill": {
     "duration": 1.399108,
     "end_time": "2024-12-01T23:26:54.246007",
     "exception": false,
     "start_time": "2024-12-01T23:26:52.846899",
     "status": "completed"
    },
    "tags": []
   },
   "outputs": [],
   "source": [
    "data['processed_message'] = data['message'].apply(preprocess_text)"
   ]
  },
  {
   "cell_type": "code",
   "execution_count": 11,
   "id": "1ac332de",
   "metadata": {
    "execution": {
     "iopub.execute_input": "2024-12-01T23:26:54.259110Z",
     "iopub.status.busy": "2024-12-01T23:26:54.258851Z",
     "iopub.status.idle": "2024-12-01T23:26:54.564017Z",
     "shell.execute_reply": "2024-12-01T23:26:54.563280Z"
    },
    "papermill": {
     "duration": 0.313769,
     "end_time": "2024-12-01T23:26:54.565908",
     "exception": false,
     "start_time": "2024-12-01T23:26:54.252139",
     "status": "completed"
    },
    "tags": []
   },
   "outputs": [],
   "source": [
    "tfidf = TfidfVectorizer(max_features=3000)\n",
    "X = tfidf.fit_transform(data['processed_message']).toarray()\n",
    "y = data['label'].apply(lambda x: 1 if x == 'spam' else 0)"
   ]
  },
  {
   "cell_type": "code",
   "execution_count": 12,
   "id": "85c951b5",
   "metadata": {
    "execution": {
     "iopub.execute_input": "2024-12-01T23:26:54.579016Z",
     "iopub.status.busy": "2024-12-01T23:26:54.578745Z",
     "iopub.status.idle": "2024-12-01T23:26:54.640980Z",
     "shell.execute_reply": "2024-12-01T23:26:54.640297Z"
    },
    "papermill": {
     "duration": 0.07079,
     "end_time": "2024-12-01T23:26:54.642882",
     "exception": false,
     "start_time": "2024-12-01T23:26:54.572092",
     "status": "completed"
    },
    "tags": []
   },
   "outputs": [],
   "source": [
    "X_train, X_test, y_train, y_test = train_test_split(X, y, test_size=0.3, random_state=42)"
   ]
  },
  {
   "cell_type": "code",
   "execution_count": 13,
   "id": "5f6796f1",
   "metadata": {
    "execution": {
     "iopub.execute_input": "2024-12-01T23:26:54.655802Z",
     "iopub.status.busy": "2024-12-01T23:26:54.655545Z",
     "iopub.status.idle": "2024-12-01T23:26:54.700855Z",
     "shell.execute_reply": "2024-12-01T23:26:54.699652Z"
    },
    "papermill": {
     "duration": 0.055379,
     "end_time": "2024-12-01T23:26:54.704354",
     "exception": false,
     "start_time": "2024-12-01T23:26:54.648975",
     "status": "completed"
    },
    "tags": []
   },
   "outputs": [],
   "source": [
    "nb_model = MultinomialNB()\n",
    "nb_model.fit(X_train, y_train)\n",
    "y_pred_nb = nb_model.predict(X_test)"
   ]
  },
  {
   "cell_type": "code",
   "execution_count": 14,
   "id": "a7272eef",
   "metadata": {
    "execution": {
     "iopub.execute_input": "2024-12-01T23:26:54.743040Z",
     "iopub.status.busy": "2024-12-01T23:26:54.742113Z",
     "iopub.status.idle": "2024-12-01T23:27:14.368384Z",
     "shell.execute_reply": "2024-12-01T23:27:14.367678Z"
    },
    "papermill": {
     "duration": 19.647836,
     "end_time": "2024-12-01T23:27:14.370459",
     "exception": false,
     "start_time": "2024-12-01T23:26:54.722623",
     "status": "completed"
    },
    "tags": []
   },
   "outputs": [],
   "source": [
    "svm_model = SVC()\n",
    "svm_model.fit(X_train, y_train)\n",
    "y_pred_svm = svm_model.predict(X_test)"
   ]
  },
  {
   "cell_type": "code",
   "execution_count": 15,
   "id": "d67581bd",
   "metadata": {
    "execution": {
     "iopub.execute_input": "2024-12-01T23:27:14.383735Z",
     "iopub.status.busy": "2024-12-01T23:27:14.383434Z",
     "iopub.status.idle": "2024-12-01T23:27:14.754960Z",
     "shell.execute_reply": "2024-12-01T23:27:14.753677Z"
    },
    "papermill": {
     "duration": 0.382086,
     "end_time": "2024-12-01T23:27:14.758753",
     "exception": false,
     "start_time": "2024-12-01T23:27:14.376667",
     "status": "completed"
    },
    "tags": []
   },
   "outputs": [],
   "source": [
    "logreg_model = LogisticRegression(max_iter=1000)\n",
    "logreg_model.fit(X_train, y_train)\n",
    "y_pred_logreg = logreg_model.predict(X_test)"
   ]
  },
  {
   "cell_type": "code",
   "execution_count": 16,
   "id": "9cb70c87",
   "metadata": {
    "execution": {
     "iopub.execute_input": "2024-12-01T23:27:14.797156Z",
     "iopub.status.busy": "2024-12-01T23:27:14.796667Z",
     "iopub.status.idle": "2024-12-01T23:29:04.800656Z",
     "shell.execute_reply": "2024-12-01T23:29:04.799062Z"
    },
    "papermill": {
     "duration": 110.028574,
     "end_time": "2024-12-01T23:29:04.805519",
     "exception": false,
     "start_time": "2024-12-01T23:27:14.776945",
     "status": "completed"
    },
    "tags": []
   },
   "outputs": [
    {
     "name": "stdout",
     "output_type": "stream",
     "text": [
      "Fitting 5 folds for each of 8 candidates, totalling 40 fits\n",
      "[CV] END ............................C=0.1, solver=liblinear; total time=   0.1s\n",
      "[CV] END ............................C=0.1, solver=liblinear; total time=   0.1s\n",
      "[CV] END ............................C=0.1, solver=liblinear; total time=   0.1s\n",
      "[CV] END ............................C=0.1, solver=liblinear; total time=   0.1s\n",
      "[CV] END ............................C=0.1, solver=liblinear; total time=   0.1s\n",
      "[CV] END .................................C=0.1, solver=saga; total time=   1.8s\n",
      "[CV] END .................................C=0.1, solver=saga; total time=   2.1s\n",
      "[CV] END .................................C=0.1, solver=saga; total time=   2.1s\n",
      "[CV] END .................................C=0.1, solver=saga; total time=   1.7s\n",
      "[CV] END .................................C=0.1, solver=saga; total time=   2.1s\n",
      "[CV] END ..............................C=1, solver=liblinear; total time=   0.1s\n",
      "[CV] END ..............................C=1, solver=liblinear; total time=   0.1s\n",
      "[CV] END ..............................C=1, solver=liblinear; total time=   0.1s\n",
      "[CV] END ..............................C=1, solver=liblinear; total time=   0.1s\n",
      "[CV] END ..............................C=1, solver=liblinear; total time=   0.1s\n",
      "[CV] END ...................................C=1, solver=saga; total time=   2.2s\n",
      "[CV] END ...................................C=1, solver=saga; total time=   2.2s\n",
      "[CV] END ...................................C=1, solver=saga; total time=   2.0s\n",
      "[CV] END ...................................C=1, solver=saga; total time=   2.0s\n",
      "[CV] END ...................................C=1, solver=saga; total time=   2.1s\n",
      "[CV] END .............................C=10, solver=liblinear; total time=   0.1s\n",
      "[CV] END .............................C=10, solver=liblinear; total time=   0.1s\n",
      "[CV] END .............................C=10, solver=liblinear; total time=   0.1s\n",
      "[CV] END .............................C=10, solver=liblinear; total time=   0.1s\n",
      "[CV] END .............................C=10, solver=liblinear; total time=   0.1s\n",
      "[CV] END ..................................C=10, solver=saga; total time=   5.9s\n",
      "[CV] END ..................................C=10, solver=saga; total time=   6.8s\n",
      "[CV] END ..................................C=10, solver=saga; total time=   6.3s\n",
      "[CV] END ..................................C=10, solver=saga; total time=   6.8s\n",
      "[CV] END ..................................C=10, solver=saga; total time=   7.2s\n",
      "[CV] END ............................C=100, solver=liblinear; total time=   0.1s\n",
      "[CV] END ............................C=100, solver=liblinear; total time=   0.1s\n",
      "[CV] END ............................C=100, solver=liblinear; total time=   0.1s\n",
      "[CV] END ............................C=100, solver=liblinear; total time=   0.1s\n",
      "[CV] END ............................C=100, solver=liblinear; total time=   0.1s\n"
     ]
    },
    {
     "name": "stderr",
     "output_type": "stream",
     "text": [
      "/opt/conda/lib/python3.10/site-packages/sklearn/linear_model/_sag.py:350: ConvergenceWarning: The max_iter was reached which means the coef_ did not converge\n",
      "  warnings.warn(\n"
     ]
    },
    {
     "name": "stdout",
     "output_type": "stream",
     "text": [
      "[CV] END .................................C=100, solver=saga; total time=  10.7s\n"
     ]
    },
    {
     "name": "stderr",
     "output_type": "stream",
     "text": [
      "/opt/conda/lib/python3.10/site-packages/sklearn/linear_model/_sag.py:350: ConvergenceWarning: The max_iter was reached which means the coef_ did not converge\n",
      "  warnings.warn(\n"
     ]
    },
    {
     "name": "stdout",
     "output_type": "stream",
     "text": [
      "[CV] END .................................C=100, solver=saga; total time=  10.8s\n"
     ]
    },
    {
     "name": "stderr",
     "output_type": "stream",
     "text": [
      "/opt/conda/lib/python3.10/site-packages/sklearn/linear_model/_sag.py:350: ConvergenceWarning: The max_iter was reached which means the coef_ did not converge\n",
      "  warnings.warn(\n"
     ]
    },
    {
     "name": "stdout",
     "output_type": "stream",
     "text": [
      "[CV] END .................................C=100, solver=saga; total time=  10.8s\n"
     ]
    },
    {
     "name": "stderr",
     "output_type": "stream",
     "text": [
      "/opt/conda/lib/python3.10/site-packages/sklearn/linear_model/_sag.py:350: ConvergenceWarning: The max_iter was reached which means the coef_ did not converge\n",
      "  warnings.warn(\n"
     ]
    },
    {
     "name": "stdout",
     "output_type": "stream",
     "text": [
      "[CV] END .................................C=100, solver=saga; total time=  10.7s\n",
      "[CV] END .................................C=100, solver=saga; total time=  10.7s\n"
     ]
    },
    {
     "name": "stderr",
     "output_type": "stream",
     "text": [
      "/opt/conda/lib/python3.10/site-packages/sklearn/linear_model/_sag.py:350: ConvergenceWarning: The max_iter was reached which means the coef_ did not converge\n",
      "  warnings.warn(\n"
     ]
    }
   ],
   "source": [
    "param_grid = {'C': [0.1, 1, 10, 100], 'solver': ['liblinear', 'saga']}\n",
    "grid = GridSearchCV(LogisticRegression(), param_grid, refit=True, verbose=2, cv=5)\n",
    "grid.fit(X_train, y_train)\n",
    "y_pred_grid = grid.best_estimator_.predict(X_test)"
   ]
  },
  {
   "cell_type": "code",
   "execution_count": 17,
   "id": "d969ebc9",
   "metadata": {
    "execution": {
     "iopub.execute_input": "2024-12-01T23:29:04.852298Z",
     "iopub.status.busy": "2024-12-01T23:29:04.851832Z",
     "iopub.status.idle": "2024-12-01T23:29:04.861846Z",
     "shell.execute_reply": "2024-12-01T23:29:04.860835Z"
    },
    "papermill": {
     "duration": 0.037345,
     "end_time": "2024-12-01T23:29:04.865352",
     "exception": false,
     "start_time": "2024-12-01T23:29:04.828007",
     "status": "completed"
    },
    "tags": []
   },
   "outputs": [],
   "source": [
    "def evaluate_model(y_test, y_pred, model_name):\n",
    "    print(f\"Model: {model_name}\")\n",
    "    print(\"Accuracy:\", accuracy_score(y_test, y_pred))\n",
    "    print(\"\\nClassification Report:\\n\", classification_report(y_test, y_pred))\n",
    "    print(\"\\nConfusion Matrix:\\n\", confusion_matrix(y_test, y_pred))\n",
    "    sns.heatmap(confusion_matrix(y_test, y_pred), annot=True, fmt='d', cmap='Blues')\n",
    "    plt.xlabel('Predicted')\n",
    "    plt.ylabel('Actual')\n",
    "    plt.title(f'Confusion Matrix - {model_name}')\n",
    "    plt.show()"
   ]
  },
  {
   "cell_type": "code",
   "execution_count": 18,
   "id": "e5ecf25a",
   "metadata": {
    "execution": {
     "iopub.execute_input": "2024-12-01T23:29:04.912479Z",
     "iopub.status.busy": "2024-12-01T23:29:04.909995Z",
     "iopub.status.idle": "2024-12-01T23:29:05.890657Z",
     "shell.execute_reply": "2024-12-01T23:29:05.889810Z"
    },
    "papermill": {
     "duration": 1.005271,
     "end_time": "2024-12-01T23:29:05.892431",
     "exception": false,
     "start_time": "2024-12-01T23:29:04.887160",
     "status": "completed"
    },
    "tags": []
   },
   "outputs": [
    {
     "name": "stdout",
     "output_type": "stream",
     "text": [
      "Model: Naive Bayes\n",
      "Accuracy: 0.972488038277512\n",
      "\n",
      "Classification Report:\n",
      "               precision    recall  f1-score   support\n",
      "\n",
      "           0       0.97      1.00      0.98      1453\n",
      "           1       0.99      0.79      0.88       219\n",
      "\n",
      "    accuracy                           0.97      1672\n",
      "   macro avg       0.98      0.90      0.93      1672\n",
      "weighted avg       0.97      0.97      0.97      1672\n",
      "\n",
      "\n",
      "Confusion Matrix:\n",
      " [[1452    1]\n",
      " [  45  174]]\n"
     ]
    },
    {
     "data": {
      "image/png": "[encoded data removed]",
      "text/plain": [
       "<Figure size 640x480 with 2 Axes>"
      ]
     },
     "metadata": {},
     "output_type": "display_data"
    },
    {
     "name": "stdout",
     "output_type": "stream",
     "text": [
      "Model: SVM\n",
      "Accuracy: 0.9754784688995215\n",
      "\n",
      "Classification Report:\n",
      "               precision    recall  f1-score   support\n",
      "\n",
      "           0       0.97      1.00      0.99      1453\n",
      "           1       0.99      0.82      0.90       219\n",
      "\n",
      "    accuracy                           0.98      1672\n",
      "   macro avg       0.98      0.91      0.94      1672\n",
      "weighted avg       0.98      0.98      0.97      1672\n",
      "\n",
      "\n",
      "Confusion Matrix:\n",
      " [[1451    2]\n",
      " [  39  180]]\n"
     ]
    },
    {
     "data": {
      "image/png": "[encoded data removed]",
      "text/plain": [
       "<Figure size 640x480 with 2 Axes>"
      ]
     },
     "metadata": {},
     "output_type": "display_data"
    },
    {
     "name": "stdout",
     "output_type": "stream",
     "text": [
      "Model: Logistic Regression\n",
      "Accuracy: 0.9551435406698564\n",
      "\n",
      "Classification Report:\n",
      "               precision    recall  f1-score   support\n",
      "\n",
      "           0       0.95      1.00      0.97      1453\n",
      "           1       0.96      0.68      0.80       219\n",
      "\n",
      "    accuracy                           0.96      1672\n",
      "   macro avg       0.96      0.84      0.89      1672\n",
      "weighted avg       0.96      0.96      0.95      1672\n",
      "\n",
      "\n",
      "Confusion Matrix:\n",
      " [[1447    6]\n",
      " [  69  150]]\n"
     ]
    },
    {
     "data": {
      "image/png": "[encoded data removed]",
      "text/plain": [
       "<Figure size 640x480 with 2 Axes>"
      ]
     },
     "metadata": {},
     "output_type": "display_data"
    },
    {
     "name": "stdout",
     "output_type": "stream",
     "text": [
      "Model: Logistic Regression (Tuned)\n",
      "Accuracy: 0.9802631578947368\n",
      "\n",
      "Classification Report:\n",
      "               precision    recall  f1-score   support\n",
      "\n",
      "           0       0.98      1.00      0.99      1453\n",
      "           1       0.99      0.86      0.92       219\n",
      "\n",
      "    accuracy                           0.98      1672\n",
      "   macro avg       0.98      0.93      0.95      1672\n",
      "weighted avg       0.98      0.98      0.98      1672\n",
      "\n",
      "\n",
      "Confusion Matrix:\n",
      " [[1451    2]\n",
      " [  31  188]]\n"
     ]
    },
    {
     "data": {
      "image/png": "[encoded data removed]",
      "text/plain": [
       "<Figure size 640x480 with 2 Axes>"
      ]
     },
     "metadata": {},
     "output_type": "display_data"
    }
   ],
   "source": [
    "evaluate_model(y_test, y_pred_nb, \"Naive Bayes\")\n",
    "evaluate_model(y_test, y_pred_svm, \"SVM\")\n",
    "evaluate_model(y_test, y_pred_logreg, \"Logistic Regression\")\n",
    "evaluate_model(y_test, y_pred_grid, \"Logistic Regression (Tuned)\")"
   ]
  },
  {
   "cell_type": "code",
   "execution_count": 19,
   "id": "4f3998d7",
   "metadata": {
    "execution": {
     "iopub.execute_input": "2024-12-01T23:29:05.911259Z",
     "iopub.status.busy": "2024-12-01T23:29:05.911006Z",
     "iopub.status.idle": "2024-12-01T23:29:15.846066Z",
     "shell.execute_reply": "2024-12-01T23:29:15.845144Z"
    },
    "papermill": {
     "duration": 9.946709,
     "end_time": "2024-12-01T23:29:15.848194",
     "exception": false,
     "start_time": "2024-12-01T23:29:05.901485",
     "status": "completed"
    },
    "tags": []
   },
   "outputs": [],
   "source": [
    "from tensorflow.keras.models import Sequential\n",
    "from tensorflow.keras.layers import Embedding, Dense, Flatten\n",
    "from tensorflow.keras.preprocessing.text import Tokenizer\n",
    "from tensorflow.keras.preprocessing.sequence import pad_sequences"
   ]
  },
  {
   "cell_type": "code",
   "execution_count": 20,
   "id": "5240e49c",
   "metadata": {
    "execution": {
     "iopub.execute_input": "2024-12-01T23:29:15.867649Z",
     "iopub.status.busy": "2024-12-01T23:29:15.867142Z",
     "iopub.status.idle": "2024-12-01T23:29:16.001907Z",
     "shell.execute_reply": "2024-12-01T23:29:16.001264Z"
    },
    "papermill": {
     "duration": 0.146077,
     "end_time": "2024-12-01T23:29:16.003539",
     "exception": false,
     "start_time": "2024-12-01T23:29:15.857462",
     "status": "completed"
    },
    "tags": []
   },
   "outputs": [],
   "source": [
    "tokenizer = Tokenizer(num_words=3000)\n",
    "tokenizer.fit_on_texts(data['processed_message'])\n",
    "X_nn = tokenizer.texts_to_sequences(data['processed_message'])\n",
    "X_nn = pad_sequences(X_nn, maxlen=100)"
   ]
  },
  {
   "cell_type": "code",
   "execution_count": 21,
   "id": "34782d32",
   "metadata": {
    "execution": {
     "iopub.execute_input": "2024-12-01T23:29:16.022291Z",
     "iopub.status.busy": "2024-12-01T23:29:16.022035Z",
     "iopub.status.idle": "2024-12-01T23:29:16.027440Z",
     "shell.execute_reply": "2024-12-01T23:29:16.026863Z"
    },
    "papermill": {
     "duration": 0.01665,
     "end_time": "2024-12-01T23:29:16.029011",
     "exception": false,
     "start_time": "2024-12-01T23:29:16.012361",
     "status": "completed"
    },
    "tags": []
   },
   "outputs": [],
   "source": [
    "X_train_nn, X_test_nn, y_train_nn, y_test_nn = train_test_split(X_nn, y, test_size=0.3, random_state=42)"
   ]
  },
  {
   "cell_type": "code",
   "execution_count": 22,
   "id": "c40d93e2",
   "metadata": {
    "execution": {
     "iopub.execute_input": "2024-12-01T23:29:16.047175Z",
     "iopub.status.busy": "2024-12-01T23:29:16.046936Z",
     "iopub.status.idle": "2024-12-01T23:29:16.055380Z",
     "shell.execute_reply": "2024-12-01T23:29:16.054699Z"
    },
    "papermill": {
     "duration": 0.019336,
     "end_time": "2024-12-01T23:29:16.056911",
     "exception": false,
     "start_time": "2024-12-01T23:29:16.037575",
     "status": "completed"
    },
    "tags": []
   },
   "outputs": [],
   "source": [
    "model = Sequential()\n",
    "model.add(Embedding(input_dim=3000, output_dim=128))\n",
    "model.add(Flatten())\n",
    "model.add(Dense(10, activation='relu'))\n",
    "model.add(Dense(1, activation='sigmoid'))"
   ]
  },
  {
   "cell_type": "code",
   "execution_count": 23,
   "id": "44705d39",
   "metadata": {
    "execution": {
     "iopub.execute_input": "2024-12-01T23:29:16.075209Z",
     "iopub.status.busy": "2024-12-01T23:29:16.074961Z",
     "iopub.status.idle": "2024-12-01T23:29:21.170383Z",
     "shell.execute_reply": "2024-12-01T23:29:21.169568Z"
    },
    "papermill": {
     "duration": 5.106483,
     "end_time": "2024-12-01T23:29:21.172099",
     "exception": false,
     "start_time": "2024-12-01T23:29:16.065616",
     "status": "completed"
    },
    "tags": []
   },
   "outputs": [
    {
     "name": "stdout",
     "output_type": "stream",
     "text": [
      "Epoch 1/5\n"
     ]
    },
    {
     "name": "stderr",
     "output_type": "stream",
     "text": [
      "WARNING: All log messages before absl::InitializeLog() is called are written to STDERR\n",
      "I0000 00:00:1733095757.876697      71 service.cc:145] XLA service 0x7b0e7401bbf0 initialized for platform CUDA (this does not guarantee that XLA will be used). Devices:\n",
      "I0000 00:00:1733095757.876755      71 service.cc:153]   StreamExecutor device (0): Tesla T4, Compute Capability 7.5\n",
      "I0000 00:00:1733095757.876759      71 service.cc:153]   StreamExecutor device (1): Tesla T4, Compute Capability 7.5\n"
     ]
    },
    {
     "name": "stdout",
     "output_type": "stream",
     "text": [
      "\u001b[1m108/122\u001b[0m \u001b[32m━━━━━━━━━━━━━━━━━\u001b[0m\u001b[37m━━━\u001b[0m \u001b[1m0s\u001b[0m 1ms/step - accuracy: 0.9046 - loss: 0.2927"
     ]
    },
    {
     "name": "stderr",
     "output_type": "stream",
     "text": [
      "I0000 00:00:1733095758.920582      71 device_compiler.h:188] Compiled cluster using XLA!  This line is logged at most once for the lifetime of the process.\n"
     ]
    },
    {
     "name": "stdout",
     "output_type": "stream",
     "text": [
      "\u001b[1m122/122\u001b[0m \u001b[32m━━━━━━━━━━━━━━━━━━━━\u001b[0m\u001b[37m\u001b[0m \u001b[1m3s\u001b[0m 10ms/step - accuracy: 0.9089 - loss: 0.2796 - val_accuracy: 0.9856 - val_loss: 0.0651\n",
      "Epoch 2/5\n",
      "\u001b[1m122/122\u001b[0m \u001b[32m━━━━━━━━━━━━━━━━━━━━\u001b[0m\u001b[37m\u001b[0m \u001b[1m0s\u001b[0m 2ms/step - accuracy: 0.9881 - loss: 0.0384 - val_accuracy: 0.9880 - val_loss: 0.0496\n",
      "Epoch 3/5\n",
      "\u001b[1m122/122\u001b[0m \u001b[32m━━━━━━━━━━━━━━━━━━━━\u001b[0m\u001b[37m\u001b[0m \u001b[1m0s\u001b[0m 2ms/step - accuracy: 0.9954 - loss: 0.0194 - val_accuracy: 0.9886 - val_loss: 0.0471\n",
      "Epoch 4/5\n",
      "\u001b[1m122/122\u001b[0m \u001b[32m━━━━━━━━━━━━━━━━━━━━\u001b[0m\u001b[37m\u001b[0m \u001b[1m0s\u001b[0m 2ms/step - accuracy: 0.9978 - loss: 0.0094 - val_accuracy: 0.9874 - val_loss: 0.0488\n",
      "Epoch 5/5\n",
      "\u001b[1m122/122\u001b[0m \u001b[32m━━━━━━━━━━━━━━━━━━━━\u001b[0m\u001b[37m\u001b[0m \u001b[1m0s\u001b[0m 2ms/step - accuracy: 0.9991 - loss: 0.0043 - val_accuracy: 0.9880 - val_loss: 0.0483\n"
     ]
    },
    {
     "data": {
      "text/plain": [
       "<keras.src.callbacks.history.History at 0x7b0f011a2680>"
      ]
     },
     "execution_count": 23,
     "metadata": {},
     "output_type": "execute_result"
    }
   ],
   "source": [
    "model.compile(optimizer='adam', loss='binary_crossentropy', metrics=['accuracy'])\n",
    "model.fit(X_train_nn, y_train_nn, epochs=5, batch_size=32, validation_data=(X_test_nn, y_test_nn))"
   ]
  },
  {
   "cell_type": "code",
   "execution_count": 24,
   "id": "472af3ff",
   "metadata": {
    "execution": {
     "iopub.execute_input": "2024-12-01T23:29:21.195584Z",
     "iopub.status.busy": "2024-12-01T23:29:21.195303Z",
     "iopub.status.idle": "2024-12-01T23:29:21.576541Z",
     "shell.execute_reply": "2024-12-01T23:29:21.575875Z"
    },
    "papermill": {
     "duration": 0.394775,
     "end_time": "2024-12-01T23:29:21.578214",
     "exception": false,
     "start_time": "2024-12-01T23:29:21.183439",
     "status": "completed"
    },
    "tags": []
   },
   "outputs": [
    {
     "name": "stdout",
     "output_type": "stream",
     "text": [
      "\u001b[1m53/53\u001b[0m \u001b[32m━━━━━━━━━━━━━━━━━━━━\u001b[0m\u001b[37m\u001b[0m \u001b[1m0s\u001b[0m 3ms/step\n"
     ]
    }
   ],
   "source": [
    "y_pred_nn = (model.predict(X_test_nn) > 0.5).astype(\"int32\")"
   ]
  },
  {
   "cell_type": "code",
   "execution_count": 25,
   "id": "091419c7",
   "metadata": {
    "execution": {
     "iopub.execute_input": "2024-12-01T23:29:21.601121Z",
     "iopub.status.busy": "2024-12-01T23:29:21.600844Z",
     "iopub.status.idle": "2024-12-01T23:29:21.789184Z",
     "shell.execute_reply": "2024-12-01T23:29:21.788287Z"
    },
    "papermill": {
     "duration": 0.201841,
     "end_time": "2024-12-01T23:29:21.791059",
     "exception": false,
     "start_time": "2024-12-01T23:29:21.589218",
     "status": "completed"
    },
    "tags": []
   },
   "outputs": [
    {
     "name": "stdout",
     "output_type": "stream",
     "text": [
      "Model: Neural Network\n",
      "Accuracy: 0.9880382775119617\n",
      "\n",
      "Classification Report:\n",
      "               precision    recall  f1-score   support\n",
      "\n",
      "           0       0.99      1.00      0.99      1453\n",
      "           1       0.99      0.92      0.95       219\n",
      "\n",
      "    accuracy                           0.99      1672\n",
      "   macro avg       0.99      0.96      0.97      1672\n",
      "weighted avg       0.99      0.99      0.99      1672\n",
      "\n",
      "\n",
      "Confusion Matrix:\n",
      " [[1451    2]\n",
      " [  18  201]]\n"
     ]
    },
    {
     "data": {
      "image/png": "[encoded data removed]",
      "text/plain": [
       "<Figure size 640x480 with 2 Axes>"
      ]
     },
     "metadata": {},
     "output_type": "display_data"
    }
   ],
   "source": [
    "evaluate_model(y_test_nn, y_pred_nn, \"Neural Network\")"
   ]
  },
  {
   "cell_type": "code",
   "execution_count": 26,
   "id": "6c65bc7d",
   "metadata": {
    "execution": {
     "iopub.execute_input": "2024-12-01T23:29:21.815684Z",
     "iopub.status.busy": "2024-12-01T23:29:21.815158Z",
     "iopub.status.idle": "2024-12-01T23:29:21.932275Z",
     "shell.execute_reply": "2024-12-01T23:29:21.931457Z"
    },
    "papermill": {
     "duration": 0.131387,
     "end_time": "2024-12-01T23:29:21.933971",
     "exception": false,
     "start_time": "2024-12-01T23:29:21.802584",
     "status": "completed"
    },
    "tags": []
   },
   "outputs": [],
   "source": [
    "from sklearn.ensemble import VotingClassifier, StackingClassifier"
   ]
  },
  {
   "cell_type": "code",
   "execution_count": 27,
   "id": "3426fae4",
   "metadata": {
    "execution": {
     "iopub.execute_input": "2024-12-01T23:29:21.957054Z",
     "iopub.status.busy": "2024-12-01T23:29:21.956804Z",
     "iopub.status.idle": "2024-12-01T23:29:41.407478Z",
     "shell.execute_reply": "2024-12-01T23:29:41.406118Z"
    },
    "papermill": {
     "duration": 19.466006,
     "end_time": "2024-12-01T23:29:41.411072",
     "exception": false,
     "start_time": "2024-12-01T23:29:21.945066",
     "status": "completed"
    },
    "tags": []
   },
   "outputs": [],
   "source": [
    "voting_clf = VotingClassifier(estimators=[\n",
    "    ('nb', nb_model), \n",
    "    ('svm', svm_model), \n",
    "    ('logreg', logreg_model)], voting='hard')\n",
    "\n",
    "voting_clf.fit(X_train, y_train)\n",
    "y_pred_voting = voting_clf.predict(X_test)"
   ]
  },
  {
   "cell_type": "code",
   "execution_count": 28,
   "id": "60ce2046",
   "metadata": {
    "execution": {
     "iopub.execute_input": "2024-12-01T23:29:41.483407Z",
     "iopub.status.busy": "2024-12-01T23:29:41.482579Z",
     "iopub.status.idle": "2024-12-01T23:29:41.488857Z",
     "shell.execute_reply": "2024-12-01T23:29:41.487388Z"
    },
    "papermill": {
     "duration": 0.047643,
     "end_time": "2024-12-01T23:29:41.491711",
     "exception": false,
     "start_time": "2024-12-01T23:29:41.444068",
     "status": "completed"
    },
    "tags": []
   },
   "outputs": [],
   "source": [
    "stacking_clf = StackingClassifier(estimators=[\n",
    "    ('nb', nb_model), \n",
    "    ('svm', svm_model)], final_estimator=LogisticRegression())"
   ]
  },
  {
   "cell_type": "code",
   "execution_count": 29,
   "id": "cb456aa4",
   "metadata": {
    "execution": {
     "iopub.execute_input": "2024-12-01T23:29:41.530750Z",
     "iopub.status.busy": "2024-12-01T23:29:41.529944Z",
     "iopub.status.idle": "2024-12-01T23:30:57.632898Z",
     "shell.execute_reply": "2024-12-01T23:30:57.631840Z"
    },
    "papermill": {
     "duration": 76.116942,
     "end_time": "2024-12-01T23:30:57.635068",
     "exception": false,
     "start_time": "2024-12-01T23:29:41.518126",
     "status": "completed"
    },
    "tags": []
   },
   "outputs": [],
   "source": [
    "stacking_clf.fit(X_train, y_train)\n",
    "y_pred_stacking = stacking_clf.predict(X_test)"
   ]
  },
  {
   "cell_type": "code",
   "execution_count": 30,
   "id": "d34c34a2",
   "metadata": {
    "execution": {
     "iopub.execute_input": "2024-12-01T23:30:57.660033Z",
     "iopub.status.busy": "2024-12-01T23:30:57.659763Z",
     "iopub.status.idle": "2024-12-01T23:30:58.141780Z",
     "shell.execute_reply": "2024-12-01T23:30:58.140969Z"
    },
    "papermill": {
     "duration": 0.496809,
     "end_time": "2024-12-01T23:30:58.143374",
     "exception": false,
     "start_time": "2024-12-01T23:30:57.646565",
     "status": "completed"
    },
    "tags": []
   },
   "outputs": [
    {
     "name": "stdout",
     "output_type": "stream",
     "text": [
      "Model: Voting Classifier\n",
      "Accuracy: 0.9712918660287081\n",
      "\n",
      "Classification Report:\n",
      "               precision    recall  f1-score   support\n",
      "\n",
      "           0       0.97      1.00      0.98      1453\n",
      "           1       0.99      0.79      0.88       219\n",
      "\n",
      "    accuracy                           0.97      1672\n",
      "   macro avg       0.98      0.89      0.93      1672\n",
      "weighted avg       0.97      0.97      0.97      1672\n",
      "\n",
      "\n",
      "Confusion Matrix:\n",
      " [[1451    2]\n",
      " [  46  173]]\n"
     ]
    },
    {
     "data": {
      "image/png": "[encoded data removed]",
      "text/plain": [
       "<Figure size 640x480 with 2 Axes>"
      ]
     },
     "metadata": {},
     "output_type": "display_data"
    },
    {
     "name": "stdout",
     "output_type": "stream",
     "text": [
      "Model: Stacking Classifier\n",
      "Accuracy: 0.9838516746411483\n",
      "\n",
      "Classification Report:\n",
      "               precision    recall  f1-score   support\n",
      "\n",
      "           0       0.98      1.00      0.99      1453\n",
      "           1       0.98      0.89      0.94       219\n",
      "\n",
      "    accuracy                           0.98      1672\n",
      "   macro avg       0.98      0.94      0.96      1672\n",
      "weighted avg       0.98      0.98      0.98      1672\n",
      "\n",
      "\n",
      "Confusion Matrix:\n",
      " [[1450    3]\n",
      " [  24  195]]\n"
     ]
    },
    {
     "data": {
      "image/png": "[encoded data removed]",
      "text/plain": [
       "<Figure size 640x480 with 2 Axes>"
      ]
     },
     "metadata": {},
     "output_type": "display_data"
    }
   ],
   "source": [
    "evaluate_model(y_test, y_pred_voting, \"Voting Classifier\")\n",
    "evaluate_model(y_test, y_pred_stacking, \"Stacking Classifier\")"
   ]
  },
  {
   "cell_type": "code",
   "execution_count": 31,
   "id": "6dc1fedd",
   "metadata": {
    "execution": {
     "iopub.execute_input": "2024-12-01T23:30:58.168897Z",
     "iopub.status.busy": "2024-12-01T23:30:58.168191Z",
     "iopub.status.idle": "2024-12-01T23:30:58.172897Z",
     "shell.execute_reply": "2024-12-01T23:30:58.172131Z"
    },
    "papermill": {
     "duration": 0.018983,
     "end_time": "2024-12-01T23:30:58.174399",
     "exception": false,
     "start_time": "2024-12-01T23:30:58.155416",
     "status": "completed"
    },
    "tags": []
   },
   "outputs": [],
   "source": [
    "def sigmoid(x):\n",
    "    return 1 / (1 + np.exp(-x))\n",
    "\n",
    "def sigmoid_derivative(x):\n",
    "    return x * (1 - x)\n",
    "\n",
    "def leaky_relu(Z):\n",
    "    return np.where(Z > 0, Z, Z * 0.01)\n",
    "\n",
    "def leaky_relu_derivative(Z):\n",
    "    return np.where(Z > 0, 1, 0.01)"
   ]
  },
  {
   "cell_type": "code",
   "execution_count": 32,
   "id": "7764e332",
   "metadata": {
    "execution": {
     "iopub.execute_input": "2024-12-01T23:30:58.199126Z",
     "iopub.status.busy": "2024-12-01T23:30:58.198461Z",
     "iopub.status.idle": "2024-12-01T23:30:58.242251Z",
     "shell.execute_reply": "2024-12-01T23:30:58.241309Z"
    },
    "papermill": {
     "duration": 0.05845,
     "end_time": "2024-12-01T23:30:58.244463",
     "exception": false,
     "start_time": "2024-12-01T23:30:58.186013",
     "status": "completed"
    },
    "tags": []
   },
   "outputs": [],
   "source": [
    "X_train, X_test, y_train, y_test = train_test_split(X, y, test_size=0.3, random_state=42)"
   ]
  },
  {
   "cell_type": "code",
   "execution_count": 33,
   "id": "b116f022",
   "metadata": {
    "execution": {
     "iopub.execute_input": "2024-12-01T23:30:58.270300Z",
     "iopub.status.busy": "2024-12-01T23:30:58.269794Z",
     "iopub.status.idle": "2024-12-01T23:30:58.273670Z",
     "shell.execute_reply": "2024-12-01T23:30:58.272882Z"
    },
    "papermill": {
     "duration": 0.018388,
     "end_time": "2024-12-01T23:30:58.275314",
     "exception": false,
     "start_time": "2024-12-01T23:30:58.256926",
     "status": "completed"
    },
    "tags": []
   },
   "outputs": [],
   "source": [
    "input_size = X_train.shape[1]\n",
    "hidden_size = 30\n",
    "output_size = 1 \n",
    "learning_rate = 1\n",
    "epochs = 1000"
   ]
  },
  {
   "cell_type": "code",
   "execution_count": 34,
   "id": "cf4dd482",
   "metadata": {
    "execution": {
     "iopub.execute_input": "2024-12-01T23:30:58.299920Z",
     "iopub.status.busy": "2024-12-01T23:30:58.299301Z",
     "iopub.status.idle": "2024-12-01T23:30:58.306816Z",
     "shell.execute_reply": "2024-12-01T23:30:58.306247Z"
    },
    "papermill": {
     "duration": 0.021299,
     "end_time": "2024-12-01T23:30:58.308247",
     "exception": false,
     "start_time": "2024-12-01T23:30:58.286948",
     "status": "completed"
    },
    "tags": []
   },
   "outputs": [],
   "source": [
    "W1 = np.random.randn(input_size, hidden_size) * np.sqrt(2. / input_size)\n",
    "b1 = np.zeros((1, hidden_size))\n",
    "W2 = np.random.randn(hidden_size, output_size) * np.sqrt(2. / hidden_size)\n",
    "b2 = np.zeros((1, output_size))"
   ]
  },
  {
   "cell_type": "code",
   "execution_count": 35,
   "id": "adf149fc",
   "metadata": {
    "execution": {
     "iopub.execute_input": "2024-12-01T23:30:58.333047Z",
     "iopub.status.busy": "2024-12-01T23:30:58.332455Z",
     "iopub.status.idle": "2024-12-01T23:31:35.763939Z",
     "shell.execute_reply": "2024-12-01T23:31:35.762696Z"
    },
    "papermill": {
     "duration": 37.447913,
     "end_time": "2024-12-01T23:31:35.767847",
     "exception": false,
     "start_time": "2024-12-01T23:30:58.319934",
     "status": "completed"
    },
    "tags": []
   },
   "outputs": [
    {
     "name": "stdout",
     "output_type": "stream",
     "text": [
      "Epoch 0/1000 - Loss: 0.6862509170672878\n",
      "Epoch 100/1000 - Loss: 0.1717711892512481\n",
      "Epoch 200/1000 - Loss: 0.0688428099510044\n",
      "Epoch 300/1000 - Loss: 0.041520710783751\n",
      "Epoch 400/1000 - Loss: 0.02803109291552893\n",
      "Epoch 500/1000 - Loss: 0.02021421977795895\n",
      "Epoch 600/1000 - Loss: 0.015380015223341557\n",
      "Epoch 700/1000 - Loss: 0.012204632914488651\n",
      "Epoch 800/1000 - Loss: 0.009993780361818356\n",
      "Epoch 900/1000 - Loss: 0.00838673691121518\n"
     ]
    }
   ],
   "source": [
    "for epoch in range(epochs):\n",
    "    \n",
    "    Z1 = np.dot(X_train, W1) + b1\n",
    "    A1 = leaky_relu(Z1)\n",
    "    Z2 = np.dot(A1, W2) + b2\n",
    "    A2 = sigmoid(Z2)\n",
    "    \n",
    "    y_train_np = y_train.values.reshape(-1, 1)\n",
    "\n",
    "    m = y_train.shape[0]\n",
    "    loss = -(1/m) * np.sum(y_train_np * np.log(A2 + 1e-8) + (1 - y_train_np) * np.log(1 - A2 + 1e-8))\n",
    "    \n",
    "    dZ2 = A2 - y_train_np.reshape(-1, 1)\n",
    "    dW2 = (1/m) * np.dot(A1.T, dZ2)\n",
    "    db2 = (1/m) * np.sum(dZ2, axis=0, keepdims=True)\n",
    "\n",
    "    dA1 = np.dot(dZ2, W2.T)\n",
    "    dZ1 = dA1 * leaky_relu_derivative(A1)\n",
    "    dW1 = (1/m) * np.dot(X_train.T, dZ1)\n",
    "    db1 = (1/m) * np.sum(dZ1, axis=0, keepdims=True)\n",
    "\n",
    "    W1 -= learning_rate * dW1\n",
    "    b1 -= learning_rate * db1\n",
    "    W2 -= learning_rate * dW2\n",
    "    b2 -= learning_rate * db2\n",
    "\n",
    "    if epoch % 100 == 0:\n",
    "        print(f'Epoch {epoch}/{epochs} - Loss: {loss}')"
   ]
  },
  {
   "cell_type": "code",
   "execution_count": 36,
   "id": "05b776a3",
   "metadata": {
    "execution": {
     "iopub.execute_input": "2024-12-01T23:31:35.845943Z",
     "iopub.status.busy": "2024-12-01T23:31:35.842725Z",
     "iopub.status.idle": "2024-12-01T23:31:35.857984Z",
     "shell.execute_reply": "2024-12-01T23:31:35.856939Z"
    },
    "papermill": {
     "duration": 0.056087,
     "end_time": "2024-12-01T23:31:35.861286",
     "exception": false,
     "start_time": "2024-12-01T23:31:35.805199",
     "status": "completed"
    },
    "tags": []
   },
   "outputs": [],
   "source": [
    "def evaluate_model_NN(X_test, y_test, W1, b1, W2, b2):\n",
    "    \n",
    "    Z1_test = np.dot(X_test, W1) + b1\n",
    "    A1_test = leaky_relu(Z1_test)\n",
    "    Z2_test = np.dot(A1_test, W2) + b2\n",
    "    A2_test = sigmoid(Z2_test)\n",
    "    \n",
    "    y_pred = (A2_test > 0.5).astype(int).flatten()\n",
    "\n",
    "    accuracy = accuracy_score(y_test, y_pred)\n",
    "    print(f'Accuracy: {accuracy * 100:.2f}%')\n",
    "\n",
    "    print(\"\\nClassification Report:\\n\", classification_report(y_test, y_pred, zero_division=0))\n",
    "    print(\"\\nConfusion Matrix:\\n\", confusion_matrix(y_test, y_pred))\n",
    "    \n",
    "    sns.heatmap(confusion_matrix(y_test, y_pred), annot=True, fmt='d', cmap='Blues')\n",
    "    plt.xlabel('Predicted')\n",
    "    plt.ylabel('Actual')\n",
    "    plt.title(f'Confusion Matrix - NN')\n",
    "    plt.show()\n",
    "\n",
    "    return accuracy, y_pred"
   ]
  },
  {
   "cell_type": "code",
   "execution_count": 37,
   "id": "d162641d",
   "metadata": {
    "execution": {
     "iopub.execute_input": "2024-12-01T23:31:35.909617Z",
     "iopub.status.busy": "2024-12-01T23:31:35.909350Z",
     "iopub.status.idle": "2024-12-01T23:31:36.223286Z",
     "shell.execute_reply": "2024-12-01T23:31:36.222444Z"
    },
    "papermill": {
     "duration": 0.329056,
     "end_time": "2024-12-01T23:31:36.224941",
     "exception": false,
     "start_time": "2024-12-01T23:31:35.895885",
     "status": "completed"
    },
    "tags": []
   },
   "outputs": [
    {
     "name": "stdout",
     "output_type": "stream",
     "text": [
      "Accuracy: 97.97%\n",
      "\n",
      "Classification Report:\n",
      "               precision    recall  f1-score   support\n",
      "\n",
      "           0       0.98      1.00      0.99      1453\n",
      "           1       0.98      0.86      0.92       219\n",
      "\n",
      "    accuracy                           0.98      1672\n",
      "   macro avg       0.98      0.93      0.95      1672\n",
      "weighted avg       0.98      0.98      0.98      1672\n",
      "\n",
      "\n",
      "Confusion Matrix:\n",
      " [[1450    3]\n",
      " [  31  188]]\n"
     ]
    },
    {
     "data": {
      "image/png": "[encoded data removed]",
      "text/plain": [
       "<Figure size 640x480 with 2 Axes>"
      ]
     },
     "metadata": {},
     "output_type": "display_data"
    }
   ],
   "source": [
    "accuracy, y_pred = evaluate_model_NN(X_test, y_test, W1, b1, W2, b2)"
   ]
  }
 ],
 "metadata": {
  "kaggle": {
   "accelerator": "nvidiaTeslaT4",
   "dataSources": [
    {
     "datasetId": 483,
     "sourceId": 982,
     "sourceType": "datasetVersion"
    }
   ],
   "dockerImageVersionId": 30761,
   "isGpuEnabled": true,
   "isInternetEnabled": true,
   "language": "python",
   "sourceType": "notebook"
  },
  "kernelspec": {
   "display_name": "Python 3",
   "language": "python",
   "name": "python3"
  },
  "language_info": {
   "codemirror_mode": {
    "name": "ipython",
    "version": 3
   },
   "file_extension": ".py",
   "mimetype": "text/x-python",
   "name": "python",
   "nbconvert_exporter": "python",
   "pygments_lexer": "ipython3",
   "version": "3.10.14"
  },
  "papermill": {
   "default_parameters": {},
   "duration": 291.706099,
   "end_time": "2024-12-01T23:31:39.287935",
   "environment_variables": {},
   "exception": null,
   "input_path": "__notebook__.ipynb",
   "output_path": "__notebook__.ipynb",
   "parameters": {},
   "start_time": "2024-12-01T23:26:47.581836",
   "version": "2.6.0"
  }
 },
 "nbformat": 4,
 "nbformat_minor": 5
}
